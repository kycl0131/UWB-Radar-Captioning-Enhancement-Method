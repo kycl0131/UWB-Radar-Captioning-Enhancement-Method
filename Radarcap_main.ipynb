{
 "cells": [
  {
   "cell_type": "code",
   "execution_count": 1,
   "metadata": {},
   "outputs": [],
   "source": [
    "\n",
    "# import os\n",
    "# import numpy as np\n",
    "# import torch\n",
    "# from scipy.signal import hilbert\n",
    "# import matplotlib.pyplot as plt\n",
    "\n",
    "# # Define Wigner-Ville Distribution (WVD) and Gaussian Smoothing functions\n",
    "# def wigner_ville_distribution(signal):\n",
    "#     N = signal.shape[-1]\n",
    "#     WVD = torch.zeros((N, N), dtype=torch.complex64, device=signal.device)\n",
    "    \n",
    "#     indices = torch.arange(N, device=signal.device)\n",
    "#     for n in range(N):\n",
    "#         shifted_indices = (indices + n) % N\n",
    "#         WVD[:, n] = signal * torch.conj(signal[shifted_indices])\n",
    "    \n",
    "#     WVD = torch.fft.fft(WVD, dim=0)\n",
    "    \n",
    "#     return WVD\n",
    "\n",
    "# def gaussian_smoothing(wvd, alpha, beta):\n",
    "#     time_size, freq_size = wvd.shape\n",
    "#     t = torch.linspace(-1, 1, time_size, device=wvd.device)\n",
    "#     f = torch.linspace(-1, 1, freq_size, device=wvd.device)\n",
    "#     T, F = torch.meshgrid(t, f, indexing='ij')\n",
    "    \n",
    "#     gauss_filter = torch.exp(-T**2 / (2 * alpha**2) - F**2 / (2 * beta**2))\n",
    "#     gauss_filter = torch.fft.fftshift(gauss_filter)\n",
    "    \n",
    "#     wvd_fft = torch.fft.fft2(wvd)\n",
    "#     gauss_filter_fft = torch.fft.fft2(gauss_filter)\n",
    "    \n",
    "#     smoothed_wvd_fft = wvd_fft * gauss_filter_fft\n",
    "#     smoothed_wvd = torch.fft.ifft2(smoothed_wvd_fft)\n",
    "    \n",
    "#     return smoothed_wvd\n",
    "\n",
    "\n",
    "\n",
    "# def smoothed_wigner_ville_distribution(signal, alpha, beta):\n",
    "#     WVD = wigner_ville_distribution(signal)\n",
    "#     smoothed_WVD = gaussian_smoothing(WVD, alpha, beta)\n",
    "#     return smoothed_WVD\n",
    "\n",
    "# # Define function to calculate and save sWVD\n",
    "# def calculate_and_save_swvd(radar_root_dir, swvd_save_dir, radar_range=[0,1488], alpha=0.5, beta=0.5):\n",
    "#     classes = sorted(os.listdir(radar_root_dir))\n",
    "    \n",
    "#     if not os.path.exists(swvd_save_dir):\n",
    "#         os.makedirs(swvd_save_dir)\n",
    "    \n",
    "#     for cls in classes:\n",
    "#         radar_dir = os.path.join(radar_root_dir, cls)\n",
    "#         swvd_dir = os.path.join(swvd_save_dir, cls)\n",
    "        \n",
    "#         if not os.path.exists(swvd_dir):\n",
    "#             os.makedirs(swvd_dir)\n",
    "        \n",
    "#         radar_files = sorted([f for f in os.listdir(radar_dir) if f.endswith('npy')])\n",
    "        \n",
    "#         for radar_file in radar_files:\n",
    "#             radar_path = os.path.join(radar_dir, radar_file)\n",
    "#             swvd_path = os.path.join(swvd_dir, os.path.splitext(radar_file)[0] + '.png')\n",
    "            \n",
    "#             radar = np.load(radar_path)\n",
    "#             radar = torch.tensor(radar, dtype=torch.float32).reshape(-1, 1488)\n",
    "#             radar = radar[:, radar_range[0]:radar_range[1]]\n",
    "            \n",
    "#             with torch.no_grad():\n",
    "#                 signal = torch.tensor(hilbert(radar.squeeze().cpu().numpy()), dtype=torch.complex64).to('cuda')\n",
    "#                 sWVD = smoothed_wigner_ville_distribution(signal, alpha, beta).to('cpu')\n",
    "            \n",
    "#             sWVD_np = np.abs(sWVD.cpu().numpy())\n",
    "\n",
    "#             # 디버깅: sWVD_np의 형상 출력\n",
    "#             # print(f\"sWVD_np shape for {radar_file}: {sWVD_np.shape}\")\n",
    "\n",
    "#             if sWVD_np.ndim == 2:  # 2차원 배열인지 확인\n",
    "#                 freq_range = np.linspace(0, 1, sWVD_np.shape[0])\n",
    "#                 extent = [0, sWVD_np.shape[1], freq_range[0], freq_range[-1]]\n",
    "                \n",
    "#                 # Save as image\n",
    "#                 plt.imshow(sWVD_np, aspect='auto', extent=extent, cmap='jet', origin='lower')\n",
    "#                 plt.colorbar()\n",
    "#                 plt.title(f'sWVD for {radar_file}')\n",
    "#                 plt.savefig(swvd_path)\n",
    "#                 plt.close()\n",
    "                \n",
    "#                 # print(f\"Saved sWVD image for {radar_file} in {swvd_dir}\")\n",
    "#             else:\n",
    "#                 print(f\"Unexpected sWVD shape for {radar_file}: {sWVD_np.shape}\")\n",
    "\n",
    "# # Example usage\n",
    "# radar_root_dir = '/home/yunkwan/project/radarclip/data_train/radar'\n",
    "# swvd_save_dir = '/home/yunkwan/project/radarclip/data_train/swvd_folder_image/random'\n",
    "# calculate_and_save_swvd(radar_root_dir, swvd_save_dir, radar_range=[100,1000])\n"
   ]
  },
  {
   "cell_type": "code",
   "execution_count": 2,
   "metadata": {},
   "outputs": [],
   "source": [
    "# import os\n",
    "# import numpy as np\n",
    "# import torch\n",
    "# from scipy.signal import hilbert\n",
    "\n",
    "# # Define Wigner-Ville Distribution (WVD) and Gaussian Smoothing functions\n",
    "# def wigner_ville_distribution(signal):\n",
    "#     N = signal.shape[-1]\n",
    "#     WVD = torch.zeros((N, N), dtype=torch.complex64, device=signal.device)\n",
    "    \n",
    "#     for n in range(N):\n",
    "#         shifted_signal = torch.roll(signal, shifts=n)\n",
    "#         WVD[:, n] = signal * torch.conj(shifted_signal)\n",
    "    \n",
    "#     WVD = torch.fft.fft(WVD, dim=1)\n",
    "    \n",
    "#     return WVD\n",
    "\n",
    "# def gaussian_smoothing(wvd, alpha, beta):\n",
    "#     time_size, freq_size = wvd.shape\n",
    "#     t = torch.linspace(-1, 1, time_size, device=wvd.device)\n",
    "#     f = torch.linspace(-1, 1, freq_size, device=wvd.device)\n",
    "#     T, F = torch.meshgrid(t, f, indexing='ij')\n",
    "    \n",
    "#     gauss_filter = torch.exp(-T**2 / (2 * alpha**2) - F**2 / (2 * beta**2))\n",
    "#     gauss_filter = torch.fft.fftshift(gauss_filter)\n",
    "    \n",
    "#     wvd_fft = torch.fft.fft2(wvd)\n",
    "#     gauss_filter_fft = torch.fft.fft2(gauss_filter)\n",
    "    \n",
    "#     smoothed_wvd_fft = wvd_fft * gauss_filter_fft\n",
    "#     smoothed_wvd = torch.fft.ifft2(smoothed_wvd_fft)\n",
    "    \n",
    "#     return smoothed_wvd\n",
    "\n",
    "# def smoothed_wigner_ville_distribution(signal, alpha, beta):\n",
    "#     WVD = wigner_ville_distribution(signal)\n",
    "#     smoothed_WVD = gaussian_smoothing(WVD, alpha, beta)\n",
    "#     return smoothed_WVD.T\n",
    "\n",
    "# # Define function to calculate and save sWVD\n",
    "# def calculate_and_save_swvd(radar_root_dir, swvd_save_dir, radar_range=[0,1488], alpha=0.005, beta=0.005):\n",
    "#     classes = sorted(os.listdir(radar_root_dir))\n",
    "    \n",
    "#     if not os.path.exists(swvd_save_dir):\n",
    "#         os.makedirs(swvd_save_dir)\n",
    "    \n",
    "#     for cls in classes:\n",
    "#         radar_dir = os.path.join(radar_root_dir, cls)\n",
    "#         swvd_dir = os.path.join(swvd_save_dir, cls)\n",
    "        \n",
    "#         if not os.path.exists(swvd_dir):\n",
    "#             os.makedirs(swvd_dir)\n",
    "        \n",
    "#         radar_files = sorted([f for f in os.listdir(radar_dir) if f.endswith('npy')])\n",
    "        \n",
    "#         for radar_file in radar_files:\n",
    "#             radar_path = os.path.join(radar_dir, radar_file)\n",
    "#             swvd_path = os.path.join(swvd_dir, radar_file)\n",
    "            \n",
    "#             radar = np.load(radar_path)\n",
    "#             radar = torch.tensor(radar, dtype=torch.float32).reshape(-1, 1488)\n",
    "#             radar = radar[:, radar_range[0]:radar_range[1]]\n",
    "            \n",
    "#             with torch.no_grad():\n",
    "#                 signal = torch.tensor(hilbert(radar.squeeze().cpu().numpy()), dtype=torch.complex64).to('cuda')\n",
    "#                 sWVD = smoothed_wigner_ville_distribution(signal, alpha, beta).to('cpu')\n",
    "                \n",
    "#             np.save(swvd_path, sWVD.cpu().numpy())\n",
    "#             # print(f\"Saved sWVD for {radar_file} in {swvd_dir}\")\n",
    "\n",
    "# # Example usage\n",
    "# radar_root_dir = '/home/yunkwan/project/radarclip/data_train/radar'\n",
    "# swvd_save_dir = '/home/yunkwan/project/radarclip/data_train/swvd_folder'\n",
    "# radar_range =[200,202]\n",
    "# calculate_and_save_swvd(radar_root_dir, swvd_save_dir,radar_range =radar_range)\n",
    "\n",
    "\n"
   ]
  },
  {
   "cell_type": "code",
   "execution_count": 3,
   "metadata": {},
   "outputs": [],
   "source": [
    "\n",
    "import os\n",
    "import shutil\n",
    "import re\n",
    "\n",
    "# 폴더 경로 설정\n",
    "image_folder = '/home/yunkwan/project/radarclip/data_train/image'\n",
    "radar_folder = '/home/yunkwan/project/radarclip/data_train/radar'\n",
    "backup_folder = '/home/yunkwan/project/radarclip/data_train/radar/backup'\n",
    "\n",
    "# 백업 폴더가 없으면 생성\n",
    "os.makedirs(backup_folder, exist_ok=True)\n",
    "\n",
    "# 파일 이름에서 숫자만 추출하는 함수\n",
    "def extract_number(filename):\n",
    "    match = re.search(r'\\d+', filename)\n",
    "    return match.group(0) if match else None\n",
    "\n",
    "# 이미지 폴더와 레이더 폴더의 파일 이름 목록에서 숫자만 추출하여 가져오기\n",
    "image_files = set(extract_number(f) for f in os.listdir(image_folder))\n",
    "radar_files = os.listdir(radar_folder)\n",
    "\n",
    "# 레이더 폴더의 파일 이름에서 숫자를 추출하여 이미지 폴더에 없는 경우 제거\n",
    "for radar_file in radar_files:\n",
    "    radar_file_number = extract_number(radar_file)\n",
    "    if radar_file_number and radar_file_number not in image_files:\n",
    "        radar_file_path = os.path.join(radar_folder, radar_file)\n",
    "        backup_file_path = os.path.join(backup_folder, radar_file)\n",
    "        os.remove(radar_file_path)\n",
    "        print(f'Removed: {radar_file_path}')\n",
    "        # shutil.move(radar_file_path, backup_file_path)\n",
    "        # print(f'Moved: {radar_file_path} to {backup_file_path}')\n",
    "        \n"
   ]
  },
  {
   "cell_type": "code",
   "execution_count": 4,
   "metadata": {},
   "outputs": [
    {
     "data": {
      "image/png": "[encoded data removed]",
      "text/plain": [
       "<Figure size 1500x500 with 3 Axes>"
      ]
     },
     "metadata": {},
     "output_type": "display_data"
    },
    {
     "data": {
      "text/plain": [
       "torch.Size([4, 1, 800])"
      ]
     },
     "execution_count": 4,
     "metadata": {},
     "output_type": "execute_result"
    }
   ],
   "source": [
    "import os\n",
    "import numpy as np\n",
    "import torch\n",
    "import matplotlib.pyplot as plt\n",
    "from torchvision import datasets, transforms\n",
    "from torch.utils.data import Dataset, DataLoader\n",
    "from dataload import *\n",
    "import os\n",
    "import torch\n",
    "import torch.nn as nn\n",
    "import torch.nn.functional as F\n",
    "from model import *\n",
    "from PIL import Image, ImageFilter\n",
    "\n",
    "\n",
    "os.environ[\"TOKENIZERS_PARALLELISM\"] = \"false\"\n",
    "\n",
    "\n",
    "\n",
    "\n",
    "# 이미지 및 레이더 데이터셋 경로 설정\n",
    "image_data_path = '/home/yunkwan/project/radarclip/data_train/image'\n",
    "radar_data_path = '/home/yunkwan/project/radarclip/data_train/radar'\n",
    "sWVD_data_path = '/home/yunkwan/project/radarclip/data_train/swvd_folder'\n",
    "# # 이미지 및 레이더 데이터셋 경로 설정\n",
    "# image_data_path = '/home/yunkwan/project/radarclip/data_test/image'\n",
    "# radar_data_path = '/home/yunkwan/project/radarclip/data_test/radar'\n",
    "# sWVD_data_path = '/home/yunkwan/project/radarclip/data_test/swvd_folder'\n",
    "\n",
    "# 이미지 데이터 전처리 및 변환 정의\n",
    "def gray_to_rgb(img):\n",
    "    return img.repeat(3, 1, 1)\n",
    "\n",
    "\n",
    "# Edge filter를 적용하는 함수\n",
    "def apply_edge_filter(image):\n",
    "    return image.filter(ImageFilter.FIND_EDGES)\n",
    "\n",
    "image_transform = transforms.Compose([\n",
    "    #transforms.RandomResizedCrop((224, 224)),  # 랜덤하게 크롭 후 리사이즈\n",
    "    # transforms.Lambda(apply_edge_filter),\n",
    "    # transforms.RandomRotation(degrees=(0, 0)),  # 랜덤하게 회전 (예: -30도에서 30도 사이)\n",
    "    transforms.ToTensor(),  # 이미지를 Tensor로 변환\n",
    "    # transforms.Grayscale(num_output_channels=1),  # 이미지를 흑백으로 변환\n",
    "    # transforms.Lambda(lambda x: gray_to_rgb(x)),  # 1채널 흑백 이미지를 3채널로 복사\n",
    "    transforms.Normalize(mean=[0.5, 0.5, 0.5], std=[0.5, 0.5, 0.5]),  # 이미지 정규화\n",
    "    # transforms.RandomCrop((200, 200)),  # 랜덤하게 크롭\n",
    "    transforms.Resize((368, 368)),\n",
    "])\n",
    "\n",
    "\n",
    "\n",
    "# 커스텀 데이터셋 생성\n",
    "radar_range =[200,1000]\n",
    "radar_normalize= False\n",
    "paired_dataset = PairedDataset(image_root_dir=image_data_path, radar_root_dir=radar_data_path,sWVD_root_dir= sWVD_data_path,radar_range=radar_range ,transform=image_transform, radar_normalize= radar_normalize)\n",
    "\n",
    "# 데이터 로더 생성\n",
    "paired_dataloader = DataLoader(paired_dataset, batch_size=4, shuffle=True, num_workers=0)\n",
    "\n",
    "# 데이터 로더에서 첫 배치를 가져옴\n",
    "image_batch, radar_batch, image_path_batch, radar_path_batch, WVD_batch = next(iter(paired_dataloader))\n",
    "images, radars,image_path,radar_path,WVD = image_batch, radar_batch,image_path_batch, radar_path_batch, WVD_batch\n",
    "\n",
    "# 이미지 역정규화 함수 정의\n",
    "def imshow(img):\n",
    "    img = img * torch.tensor([0.229, 0.224, 0.225]).view(3, 1, 1) + torch.tensor([0.485, 0.456, 0.406]).view(3, 1, 1)  # 역정규화\n",
    "    npimg = img.numpy()\n",
    "    npimg = np.clip(npimg, 0, 1) \n",
    "    plt.imshow(np.transpose(npimg, (1, 2, 0)))\n",
    "    plt.show()\n",
    "\n",
    "def imshow_nping(img):\n",
    "    img = img * torch.tensor([0.229, 0.224, 0.225]).view(3, 1, 1) + torch.tensor([0.485, 0.456, 0.406]).view(3, 1, 1)  # 역정규화\n",
    "    npimg = img.numpy()\n",
    "    npimg = np.clip(npimg, 0, 1) \n",
    "    npimg = np.transpose(npimg, (1, 2, 0))\n",
    "    return npimg\n",
    "\n",
    "# 첫 번째 페어를 시각화\n",
    "plt.figure(figsize=(15, 5))\n",
    "\n",
    "plt.subplot(1, 3, 1)\n",
    "# imshow(images[0])\n",
    "img = imshow_nping(images[0])\n",
    "plt.imshow(img)\n",
    "plt.title('First Image')\n",
    "\n",
    "plt.subplot(1, 3, 2)\n",
    "if radar_normalize == True:\n",
    "    lim = 1\n",
    "    plt.plot(radars[0].flatten())\n",
    "else:\n",
    "    lim = 0.01\n",
    "    plt.plot(radars[0].flatten())\n",
    "plt.title('First Radar Data Sample')\n",
    "# plt.ylim(-lim, lim)\n",
    "\n",
    "freq_range = np.linspace(0, 1, WVD[0].shape[0])\n",
    "extent = [0, WVD[0].shape[1], freq_range[0], freq_range[-1]]\n",
    "plt.subplot(1, 3, 3)\n",
    "plt.imshow(np.abs(WVD[0]),aspect='auto', extent=extent, cmap='jet', origin='lower')\n",
    "plt.title('SWVD')\n",
    "\n",
    "\n",
    "\n",
    "plt.tight_layout()\n",
    "plt.show()\n",
    "\n",
    "radars[0,0,:].shape\n",
    "radars.shape\n",
    "\n",
    "# radars"
   ]
  },
  {
   "cell_type": "code",
   "execution_count": 5,
   "metadata": {},
   "outputs": [],
   "source": [
    "# import numpy as np\n",
    "# import torch\n",
    "# from sklearn.decomposition import PCA\n",
    "# import matplotlib.pyplot as plt\n",
    "\n",
    "# # Collect all radar data\n",
    "# all_radars = []\n",
    "\n",
    "# for _, radars, _, _, _ in paired_dataloader:\n",
    "#     radars_np = radars.cpu().numpy()\n",
    "#     for radar in radars_np:\n",
    "#         all_radars.append(radar.flatten())\n",
    "\n",
    "# all_radars = np.array(all_radars)\n",
    "\n",
    "# # Apply PCA\n",
    "# n_components = 2\n",
    "# pca = PCA(n_components=n_components)\n",
    "# radars_pca = pca.fit_transform(all_radars)\n",
    "\n",
    "# # Plot the PCA-transformed data\n",
    "# plt.figure(figsize=(10, 6))\n",
    "# plt.scatter(radars_pca[:300, 0], radars_pca[:300, 1], color='r')\n",
    "# plt.title('PCA Transformed Radar Data')\n",
    "# plt.xlabel('Principal Component 1')\n",
    "# plt.ylabel('Principal Component 2')\n",
    "# plt.show()\n"
   ]
  },
  {
   "cell_type": "code",
   "execution_count": 6,
   "metadata": {},
   "outputs": [],
   "source": [
    "from transformers import CLIPProcessor, CLIPModel\n",
    "import torch\n",
    "from PIL import Image\n",
    "\n",
    "# CLIP 모델과 프로세서를 로드합니다\n",
    "CLIP = CLIPModel.from_pretrained(\"openai/clip-vit-base-patch32\")\n",
    "processor = CLIPProcessor.from_pretrained(\"openai/clip-vit-base-patch32\")\n",
    "\n",
    "# 테스트 이미지를 불러옵니다\n",
    "image = images[0]\n",
    "\n",
    "# 테스트 텍스트를 정의합니다\n",
    "text = \"a description of the image\"\n",
    "\n",
    "# 입력을 프로세싱합니다\n",
    "inputs = processor(text=[text], images=image, return_tensors=\"pt\", padding=True)\n",
    "\n",
    "\n",
    "# 모델을 통해 예측을 수행합니다\n",
    "outputs = CLIP(**inputs)\n",
    "\n",
    "# 이미지와 텍스트의 유사성을 계산합니다\n",
    "logits_per_image = outputs.logits_per_image # 이미지-텍스트 유사성\n",
    "logits_per_text = outputs.logits_per_text   # 텍스트-이미지 유사성\n",
    "\n",
    "# 소프트맥스를 통해 확률을 계산합니다\n",
    "probs = logits_per_image.softmax(dim=1) # 이미지의 경우\n",
    "\n",
    "print(\"Logits per image:\", logits_per_image)\n",
    "print(\"Logits per text:\", logits_per_text)\n",
    "print(\"Probs:\", probs)\n",
    "# 이미지 전처리\n",
    "image_inputs = processor(images=image, return_tensors=\"pt\")\n",
    "\n",
    "# 이미지 임베딩 계산\n",
    "image_features = CLIP.get_image_features(**image_inputs)\n",
    "\n"
   ]
  },
  {
   "cell_type": "code",
   "execution_count": null,
   "metadata": {},
   "outputs": [],
   "source": [
    "import torch\n",
    "from PIL import Image\n",
    "from transformers import ViTFeatureExtractor, AutoTokenizer, CLIPFeatureExtractor, AutoModel, AutoModelForCausalLM\n",
    "from transformers.models.auto.configuration_auto import AutoConfig\n",
    "from smallcap.src.vision_encoder_decoder import SmallCap, SmallCapConfig\n",
    "from smallcap.src.gpt2 import ThisGPT2Config, ThisGPT2LMHeadModel\n",
    "from smallcap.src.utils import prep_strings, postprocess_preds\n",
    "import json\n",
    "from smallcap.src.retrieve_caps import *\n",
    "import faiss\n",
    "import torchvision.transforms as transforms\n",
    "\n",
    "device = \"cuda\" if torch.cuda.is_available() else \"cpu\"\n",
    "\n",
    "# 특징 추출기 로드\n",
    "retrieval_model, feature_extractor_retrieval = clip.load(\"ViT-B/32\", device=device) #528 size 224\n",
    "\n"
   ]
  },
  {
   "cell_type": "code",
   "execution_count": null,
   "metadata": {},
   "outputs": [
    {
     "name": "stderr",
     "output_type": "stream",
     "text": [
      "Some weights of SmallCap were not initialized from the model checkpoint at Yova/SmallCap7M and are newly initialized: ['encoder_radar.layer4.2.bn1.running_mean', 'encoder_radar.layer3.2.bn1.running_mean', 'encoder_radar.layer3.13.conv2.weight', 'encoder_radar.layer3.0.bn2.bias', 'encoder_radar.layer3.10.conv3.weight', 'encoder_radar.layer3.10.bn1.running_var', 'encoder_radar.layer3.11.conv2.weight', 'encoder_radar.layer3.20.bn3.running_mean', 'encoder_radar.layer2.0.downsample.0.weight', 'encoder_radar.layer2.1.conv3.weight', 'encoder_radar.layer3.9.bn1.running_mean', 'encoder_radar.layer3.5.bn3.running_mean', 'encoder_radar.layer3.4.bn2.running_mean', 'encoder_radar.layer1.0.downsample.1.weight', 'encoder_radar.layer3.15.bn2.num_batches_tracked', 'encoder_radar.layer1.0.bn3.num_batches_tracked', 'encoder_radar.layer2.3.bn2.num_batches_tracked', 'encoder_radar.layer3.3.bn3.weight', 'encoder_radar.layer3.20.bn2.weight', 'encoder_radar.layer2.2.bn2.weight', 'encoder_radar.layer4.0.bn3.bias', 'encoder_radar.layer3.5.bn2.running_mean', 'encoder_radar.layer3.0.downsample.1.bias', 'encoder_radar.layer3.6.bn2.running_var', 'encoder_radar.layer2.3.bn1.num_batches_tracked', 'encoder_radar.layer3.1.bn3.num_batches_tracked', 'encoder_radar.layer2.2.bn1.bias', 'encoder_radar.layer1.2.bn3.running_mean', 'encoder_radar.layer3.21.bn3.bias', 'encoder_radar.layer4.2.conv2.weight', 'encoder_radar.layer2.0.conv3.weight', 'encoder_radar.layer3.1.bn2.num_batches_tracked', 'encoder_radar.layer3.5.bn2.running_var', 'encoder_radar.layer4.0.downsample.1.weight', 'encoder_radar.layer3.21.bn1.weight', 'encoder_radar.layer3.15.bn1.num_batches_tracked', 'encoder_radar.layer4.1.bn2.num_batches_tracked', 'encoder_radar.layer3.0.bn2.weight', 'encoder_radar.layer3.17.bn2.num_batches_tracked', 'encoder_radar.layer3.2.bn2.bias', 'encoder_radar.layer3.22.conv1.weight', 'encoder_radar.layer3.22.conv3.weight', 'encoder_radar.layer3.6.bn3.bias', 'encoder_radar.layer3.11.bn1.bias', 'encoder_radar.layer4.0.downsample.1.bias', 'encoder_radar.layer3.2.bn1.running_var', 'encoder_radar.layer3.6.bn1.num_batches_tracked', 'encoder_radar.conv1.weight', 'encoder_radar.layer1.2.bn2.weight', 'encoder_radar.layer1.0.bn1.num_batches_tracked', 'encoder_radar.layer3.10.bn3.weight', 'encoder_radar.layer4.0.bn3.running_mean', 'encoder_radar.layer3.13.bn3.bias', 'encoder_radar.layer3.16.bn2.running_var', 'encoder_radar.layer3.5.bn3.weight', 'encoder_radar.layer4.0.downsample.1.num_batches_tracked', 'encoder_radar.layer4.0.conv3.weight', 'encoder_radar.layer3.0.bn3.weight', 'encoder_radar.layer3.18.bn1.num_batches_tracked', 'encoder_radar.layer4.1.bn3.running_var', 'encoder_radar.layer4.1.conv1.weight', 'encoder_radar.layer2.0.bn1.weight', 'encoder_radar.layer3.11.conv1.weight', 'encoder_radar.layer3.1.conv3.weight', 'encoder_radar.layer3.14.bn3.running_mean', 'encoder_radar.layer3.3.bn1.running_var', 'encoder_radar.layer3.20.bn1.running_mean', 'encoder_radar.layer2.0.bn1.bias', 'encoder_radar.layer2.2.bn3.weight', 'encoder_radar.layer2.2.bn3.running_mean', 'encoder_radar.layer3.5.bn2.num_batches_tracked', 'encoder_radar.layer4.0.bn2.weight', 'encoder_radar.layer3.4.conv3.weight', 'encoder_radar.layer3.7.bn2.running_var', 'encoder_radar.layer3.1.bn1.running_var', 'encoder_radar.layer3.17.bn2.running_var', 'encoder_radar.layer3.21.bn1.bias', 'encoder_radar.layer2.1.bn2.weight', 'encoder_radar.layer2.0.bn2.num_batches_tracked', 'encoder_radar.layer2.3.bn2.bias', 'encoder_radar.layer3.16.bn2.running_mean', 'encoder_radar.layer3.6.bn1.bias', 'encoder_radar.layer3.4.bn3.weight', 'encoder_radar.layer4.0.conv1.weight', 'encoder_radar.layer2.0.bn2.running_mean', 'encoder_radar.layer3.20.bn1.weight', 'encoder_radar.layer2.0.downsample.1.running_var', 'encoder_radar.layer3.0.downsample.1.running_var', 'encoder_radar.fc.weight', 'encoder_radar.layer3.3.bn2.weight', 'encoder_radar.layer4.2.bn3.weight', 'encoder_radar.layer4.0.bn1.running_mean', 'encoder_radar.layer3.8.bn1.running_mean', 'encoder_radar.layer3.21.bn2.bias', 'encoder_radar.layer3.1.bn3.running_var', 'encoder_radar.layer4.2.bn2.bias', 'encoder_radar.layer4.0.bn1.weight', 'encoder_radar.layer3.2.bn1.num_batches_tracked', 'encoder_radar.layer3.5.conv1.weight', 'encoder_radar.layer3.21.bn2.running_var', 'encoder_radar.layer3.8.bn3.running_var', 'encoder_radar.layer4.2.bn3.running_mean', 'encoder_radar.layer2.1.conv2.weight', 'encoder_radar.layer3.14.conv3.weight', 'encoder_radar.layer3.4.bn3.running_mean', 'encoder_radar.layer3.6.bn2.weight', 'encoder_radar.layer3.18.bn3.num_batches_tracked', 'encoder_radar.layer2.2.bn1.running_var', 'encoder_radar.layer3.3.bn1.num_batches_tracked', 'encoder_radar.layer3.12.bn1.bias', 'encoder_radar.layer3.17.bn1.running_var', 'encoder_radar.layer3.20.bn1.num_batches_tracked', 'encoder_radar.layer3.9.conv1.weight', 'encoder_radar.layer3.15.bn1.weight', 'encoder_radar.layer1.2.bn1.running_mean', 'encoder_radar.layer1.0.bn3.weight', 'encoder_radar.layer3.12.bn2.num_batches_tracked', 'encoder_radar.layer4.1.bn1.running_mean', 'encoder_radar.layer2.3.conv1.weight', 'encoder_radar.layer3.0.bn1.bias', 'encoder_radar.layer3.22.bn3.bias', 'encoder_radar.layer3.18.bn2.num_batches_tracked', 'encoder_radar.bn1.running_mean', 'encoder_radar.layer3.12.bn1.num_batches_tracked', 'encoder_radar.layer1.0.bn2.running_mean', 'encoder_radar.layer3.1.bn2.weight', 'encoder_radar.layer1.1.bn2.running_var', 'encoder_radar.layer3.1.bn1.weight', 'encoder_radar.layer4.2.bn2.weight', 'encoder_radar.layer4.0.downsample.1.running_var', 'encoder_radar.layer2.1.bn2.num_batches_tracked', 'encoder_radar.layer2.1.bn3.running_var', 'encoder_radar.layer3.21.bn1.num_batches_tracked', 'encoder_radar.layer4.0.bn2.bias', 'encoder_radar.layer4.1.bn1.weight', 'encoder_radar.layer4.0.bn1.bias', 'encoder_radar.layer3.21.conv2.weight', 'encoder_radar.layer3.15.bn1.running_mean', 'encoder_radar.layer3.11.bn3.weight', 'encoder_radar.layer1.1.bn2.num_batches_tracked', 'encoder_radar.layer3.18.bn1.weight', 'encoder_radar.layer3.18.bn3.bias', 'encoder_radar.layer3.0.downsample.1.num_batches_tracked', 'encoder_radar.layer3.9.bn1.bias', 'encoder_radar.layer3.7.bn1.running_mean', 'encoder_radar.layer3.2.bn3.weight', 'encoder_radar.layer3.21.bn3.running_mean', 'encoder_radar.layer3.17.conv1.weight', 'encoder_radar.layer3.10.bn2.running_var', 'encoder_radar.layer4.1.conv2.weight', 'encoder_radar.layer3.7.bn1.num_batches_tracked', 'encoder_radar.layer3.8.bn1.bias', 'encoder_radar.layer3.20.conv1.weight', 'encoder_radar.layer3.16.bn1.running_var', 'encoder_radar.layer3.5.conv3.weight', 'encoder_radar.layer3.10.bn2.bias', 'encoder_radar.layer3.19.bn3.num_batches_tracked', 'encoder_radar.layer1.0.bn3.running_mean', 'encoder_radar.layer3.4.bn2.num_batches_tracked', 'encoder_radar.layer4.0.downsample.0.weight', 'encoder_radar.layer3.0.bn3.num_batches_tracked', 'encoder_radar.layer3.5.bn3.running_var', 'encoder_radar.layer3.18.bn1.running_mean', 'encoder_radar.layer2.0.bn3.bias', 'encoder_radar.layer3.0.conv2.weight', 'encoder_radar.layer3.21.bn3.running_var', 'encoder_radar.layer3.21.conv1.weight', 'encoder_radar.layer2.3.bn1.bias', 'encoder_radar.layer3.18.bn1.bias', 'encoder_radar.layer3.22.bn3.num_batches_tracked', 'encoder_radar.layer3.3.bn3.running_mean', 'encoder_radar.layer3.3.bn2.running_var', 'encoder_radar.layer3.17.conv3.weight', 'encoder_radar.layer3.9.bn2.running_var', 'encoder_radar.layer2.2.bn3.running_var', 'encoder_radar.layer3.15.conv3.weight', 'encoder_radar.layer2.2.bn2.running_mean', 'encoder_radar.layer3.21.bn1.running_mean', 'encoder_radar.layer3.13.bn3.weight', 'encoder_radar.layer4.0.downsample.1.running_mean', 'encoder_radar.layer2.2.bn2.bias', 'encoder_radar.layer3.0.bn3.bias', 'encoder_radar.layer3.3.bn3.bias', 'encoder_radar.layer3.14.conv1.weight', 'encoder_radar.layer3.9.bn1.weight', 'encoder_radar.layer3.16.conv1.weight', 'encoder_radar.layer3.12.bn3.running_var', 'encoder_radar.layer3.7.bn1.running_var', 'encoder_radar.layer3.16.bn2.weight', 'encoder_radar.layer3.11.bn3.running_mean', 'encoder_radar.layer1.2.bn2.num_batches_tracked', 'encoder_radar.layer3.13.conv3.weight', 'encoder_radar.layer3.22.bn2.weight', 'encoder_radar.layer1.1.bn1.running_mean', 'encoder_radar.layer4.2.bn2.running_mean', 'encoder_radar.layer2.3.bn3.weight', 'encoder_radar.layer2.1.bn2.bias', 'encoder_radar.layer3.14.bn2.num_batches_tracked', 'encoder_radar.layer3.22.bn3.running_mean', 'encoder_radar.layer3.11.bn1.weight', 'encoder_radar.layer1.0.bn2.num_batches_tracked', 'encoder_radar.layer3.2.bn3.num_batches_tracked', 'encoder_radar.layer2.1.bn1.weight', 'encoder_radar.layer3.2.conv1.weight', 'encoder_radar.layer3.3.bn2.num_batches_tracked', 'encoder_radar.layer2.0.bn1.running_var', 'encoder_radar.layer3.0.downsample.0.weight', 'encoder_radar.layer3.0.downsample.1.running_mean', 'encoder_radar.layer3.20.bn1.running_var', 'encoder_radar.layer4.1.bn1.num_batches_tracked', 'encoder_radar.layer3.17.bn2.bias', 'encoder_radar.layer4.1.bn1.running_var', 'encoder_radar.layer3.1.bn1.bias', 'encoder_radar.layer3.9.bn3.num_batches_tracked', 'encoder_radar.layer3.0.bn3.running_mean', 'encoder_radar.layer3.9.bn3.bias', 'encoder_radar.layer3.12.conv2.weight', 'encoder_radar.layer3.22.bn1.weight', 'encoder_radar.layer3.11.conv3.weight', 'encoder_radar.layer4.0.bn3.running_var', 'encoder_radar.layer3.4.bn2.running_var', 'encoder_radar.layer3.16.bn3.num_batches_tracked', 'encoder_radar.layer3.17.bn1.bias', 'encoder_radar.layer2.0.bn3.weight', 'encoder_radar.layer3.6.bn2.running_mean', 'encoder_radar.layer3.1.bn3.weight', 'encoder_radar.layer3.20.bn2.running_var', 'encoder_radar.layer3.19.bn2.running_mean', 'encoder_radar.layer1.0.conv3.weight', 'encoder_radar.layer3.2.bn3.running_mean', 'encoder_radar.layer3.10.bn3.running_var', 'encoder_radar.layer3.7.bn2.bias', 'encoder_radar.layer1.2.bn3.num_batches_tracked', 'encoder_radar.layer1.1.bn2.running_mean', 'encoder_radar.layer3.1.bn3.bias', 'encoder_radar.layer3.15.conv1.weight', 'encoder_radar.layer3.5.bn3.num_batches_tracked', 'encoder_radar.layer1.1.bn1.weight', 'encoder_radar.layer1.2.bn1.running_var', 'encoder_radar.layer1.0.bn3.running_var', 'encoder_radar.layer3.6.bn3.weight', 'encoder_radar.layer3.5.bn1.weight', 'encoder_radar.layer3.8.conv2.weight', 'encoder_radar.layer3.5.conv2.weight', 'encoder_radar.layer3.2.bn3.running_var', 'encoder_radar.layer4.0.bn2.running_var', 'encoder_radar.layer3.12.bn3.weight', 'encoder_radar.layer4.0.bn2.running_mean', 'encoder_radar.layer4.2.bn1.weight', 'encoder_radar.layer4.2.bn3.running_var', 'encoder_radar.layer3.15.conv2.weight', 'encoder_radar.layer2.2.conv2.weight', 'encoder_radar.layer3.0.bn1.running_var', 'encoder_radar.layer3.2.bn1.weight', 'encoder_radar.layer3.18.bn2.bias', 'encoder_radar.layer3.5.bn1.num_batches_tracked', 'encoder_radar.layer3.11.bn3.running_var', 'encoder_radar.layer2.3.bn1.running_var', 'encoder_radar.layer3.0.downsample.1.weight', 'encoder_radar.layer3.7.bn3.num_batches_tracked', 'encoder_radar.layer3.15.bn3.running_var', 'encoder_radar.layer3.3.bn1.running_mean', 'encoder_radar.layer3.16.bn1.num_batches_tracked', 'encoder_radar.layer2.2.bn3.bias', 'encoder_radar.layer3.0.bn1.num_batches_tracked', 'encoder_radar.layer2.3.bn2.weight', 'encoder_radar.layer3.1.conv2.weight', 'encoder_radar.layer1.2.bn1.weight', 'encoder_radar.layer1.1.conv2.weight', 'encoder_radar.layer2.0.conv1.weight', 'encoder_radar.layer3.10.conv2.weight', 'encoder_radar.layer2.1.conv1.weight', 'encoder_radar.layer3.6.conv2.weight', 'encoder_radar.layer3.13.bn1.weight', 'encoder_radar.layer1.0.bn2.bias', 'encoder_radar.layer2.3.bn3.running_mean', 'encoder_radar.layer3.17.bn1.weight', 'encoder_radar.layer3.9.bn3.running_mean', 'encoder_radar.layer3.15.bn3.weight', 'encoder_radar.layer1.2.bn3.running_var', 'encoder_radar.layer3.8.bn3.running_mean', 'encoder_radar.layer3.19.bn1.running_mean', 'encoder_radar.layer3.19.bn2.running_var', 'encoder_radar.layer3.3.conv1.weight', 'encoder_radar.layer4.1.bn1.bias', 'encoder_radar.layer3.11.bn2.weight', 'encoder_radar.layer3.19.bn3.running_mean', 'encoder_radar.layer3.13.conv1.weight', 'encoder_radar.layer3.17.bn2.running_mean', 'encoder_radar.layer3.18.bn2.weight', 'encoder_radar.layer4.2.bn3.num_batches_tracked', 'encoder_radar.layer3.10.bn1.weight', 'encoder_radar.layer3.0.conv1.weight', 'encoder_radar.layer1.0.downsample.1.running_var', 'encoder_radar.layer3.8.conv1.weight', 'encoder_radar.layer2.3.bn3.num_batches_tracked', 'encoder_radar.layer3.16.bn2.num_batches_tracked', 'encoder_radar.layer3.2.conv3.weight', 'encoder_radar.layer3.20.conv2.weight', 'encoder_radar.layer3.7.conv2.weight', 'encoder_radar.layer3.7.bn3.running_mean', 'encoder_radar.layer3.18.conv1.weight', 'encoder_radar.layer3.11.bn1.running_mean', 'encoder_radar.layer3.21.bn1.running_var', 'encoder_radar.layer1.2.bn3.weight', 'encoder_radar.layer3.20.bn3.running_var', 'encoder_radar.layer3.6.bn3.running_mean', 'encoder_radar.bn1.running_var', 'encoder_radar.layer2.0.downsample.1.bias', 'encoder_radar.layer2.0.downsample.1.num_batches_tracked', 'encoder_radar.layer3.2.conv2.weight', 'encoder_radar.layer3.15.bn3.running_mean', 'encoder_radar.layer4.2.bn1.bias', 'encoder_radar.layer3.19.bn2.bias', 'encoder_radar.layer3.4.bn1.running_var', 'encoder_radar.layer3.8.bn3.bias', 'encoder_radar.layer3.12.bn2.bias', 'encoder_radar.layer2.2.bn2.num_batches_tracked', 'encoder_radar.layer1.1.conv3.weight', 'encoder_radar.layer3.11.bn3.bias', 'encoder_radar.layer1.2.bn2.bias', 'encoder_radar.layer3.2.bn2.running_var', 'encoder_radar.layer3.20.bn2.num_batches_tracked', 'encoder_radar.layer4.0.bn3.weight', 'encoder_radar.layer3.19.bn3.weight', 'encoder_radar.layer3.9.bn1.running_var', 'encoder_radar.layer4.0.conv2.weight', 'encoder_radar.layer4.0.bn1.running_var', 'encoder_radar.layer1.2.conv3.weight', 'encoder_radar.layer4.1.bn3.num_batches_tracked', 'encoder_radar.layer3.3.bn3.running_var', 'encoder_radar.bn1.weight', 'encoder_radar.layer4.2.bn1.num_batches_tracked', 'encoder_radar.layer2.0.bn2.weight', 'encoder_radar.layer2.0.bn1.running_mean', 'encoder_radar.layer3.21.bn3.weight', 'encoder_radar.layer3.17.bn3.running_mean', 'encoder_radar.layer3.20.bn2.running_mean', 'encoder_radar.layer3.2.bn2.num_batches_tracked', 'encoder_radar.layer2.1.bn3.bias', 'encoder_radar.layer2.0.bn2.running_var', 'encoder_radar.layer4.1.bn2.running_var', 'encoder_radar.layer2.0.bn3.running_var', 'encoder_radar.layer3.19.bn2.num_batches_tracked', 'encoder_radar.layer3.1.bn2.running_mean', 'encoder_radar.layer3.1.bn1.running_mean', 'encoder_radar.layer3.4.bn2.bias', 'encoder_radar.layer3.20.bn2.bias', 'encoder_radar.layer3.20.conv3.weight', 'encoder_radar.layer3.4.conv1.weight', 'encoder_radar.layer3.8.bn2.num_batches_tracked', 'encoder_radar.layer2.3.conv2.weight', 'encoder_radar.layer3.6.bn1.running_mean', 'encoder_radar.layer3.3.bn1.weight', 'encoder_radar.layer3.9.bn2.weight', 'encoder_radar.layer3.13.bn3.running_mean', 'encoder_radar.layer3.20.bn3.num_batches_tracked', 'encoder_radar.bn1.bias', 'encoder_radar.layer3.2.bn2.running_mean', 'encoder_radar.layer3.11.bn1.running_var', 'encoder_radar.layer1.1.bn1.running_var', 'encoder_radar.layer3.19.bn1.num_batches_tracked', 'encoder_radar.layer3.17.bn3.num_batches_tracked', 'encoder_radar.layer1.0.downsample.0.weight', 'encoder_radar.layer3.0.bn2.running_mean', 'encoder_radar.layer3.18.bn3.weight', 'encoder_radar.layer3.15.bn2.running_mean', 'encoder_radar.layer4.0.bn3.num_batches_tracked', 'encoder_radar.layer3.14.bn3.num_batches_tracked', 'encoder_radar.layer3.1.bn2.running_var', 'encoder_radar.layer3.22.bn2.bias', 'encoder_radar.layer1.0.bn3.bias', 'encoder_radar.layer3.13.bn3.running_var', 'encoder_radar.layer1.1.bn3.running_var', 'encoder_radar.layer3.6.bn2.num_batches_tracked', 'encoder_radar.layer3.7.bn2.running_mean', 'encoder_radar.layer3.22.bn1.running_mean', 'encoder_radar.layer3.22.bn3.weight', 'encoder_radar.layer3.8.bn2.running_var', 'encoder_radar.layer2.3.conv3.weight', 'encoder_radar.layer3.8.bn2.running_mean', 'encoder_radar.layer3.8.bn2.weight', 'encoder_radar.layer1.1.bn3.num_batches_tracked', 'encoder_radar.layer3.0.bn3.running_var', 'encoder_radar.layer3.6.bn3.running_var', 'encoder_radar.layer3.14.bn3.running_var', 'encoder_radar.layer3.8.bn3.num_batches_tracked', 'encoder_radar.layer3.15.bn2.weight', 'encoder_radar.layer3.16.bn3.bias', 'encoder_radar.layer3.22.bn1.running_var', 'encoder_radar.layer3.13.bn1.bias', 'encoder_radar.layer3.16.bn3.running_mean', 'encoder_radar.layer1.1.bn3.running_mean', 'encoder_radar.layer3.13.bn2.running_mean', 'encoder_radar.layer3.16.bn1.weight', 'encoder_radar.layer2.2.bn1.num_batches_tracked', 'encoder_radar.layer3.2.bn3.bias', 'encoder_radar.layer3.22.bn2.running_mean', 'encoder_radar.layer3.4.bn3.bias', 'encoder_radar.layer2.1.bn1.running_mean', 'encoder_radar.layer3.10.bn2.running_mean', 'encoder_radar.layer3.4.bn2.weight', 'encoder_radar.layer4.2.bn2.running_var', 'encoder_radar.layer3.16.conv3.weight', 'encoder_radar.layer3.12.bn3.bias', 'encoder_radar.layer2.2.bn3.num_batches_tracked', 'encoder_radar.layer3.4.bn1.running_mean', 'encoder_radar.layer3.12.bn1.running_mean', 'encoder_radar.layer3.13.bn1.num_batches_tracked', 'encoder_radar.layer3.9.bn3.running_var', 'encoder_radar.layer3.15.bn2.running_var', 'encoder_radar.layer3.15.bn3.num_batches_tracked', 'encoder_radar.layer3.5.bn1.running_mean', 'encoder_radar.bn1.num_batches_tracked', 'encoder_radar.layer3.12.bn1.weight', 'encoder_radar.layer3.12.bn1.running_var', 'encoder_radar.layer2.2.conv3.weight', 'encoder_radar.layer3.22.bn1.num_batches_tracked', 'encoder_radar.layer3.14.bn2.running_mean', 'encoder_radar.layer3.7.bn1.bias', 'encoder_radar.layer1.0.bn1.weight', 'encoder_radar.layer3.17.bn1.running_mean', 'encoder_radar.layer3.0.bn2.running_var', 'encoder_radar.layer3.20.bn3.bias', 'encoder_radar.layer4.1.bn3.running_mean', 'encoder_radar.layer1.1.bn1.num_batches_tracked', 'encoder_radar.layer3.14.bn3.weight', 'encoder_radar.layer3.6.bn1.weight', 'encoder_radar.layer3.22.conv2.weight', 'encoder_radar.layer3.3.conv3.weight', 'encoder_radar.layer4.2.bn1.running_var', 'encoder_radar.layer3.19.bn1.running_var', 'encoder_radar.layer3.10.bn2.num_batches_tracked', 'encoder_radar.layer3.7.conv1.weight', 'encoder_radar.layer3.4.bn1.bias', 'encoder_radar.layer3.4.bn3.running_var', 'encoder_radar.layer3.3.bn1.bias', 'encoder_radar.layer3.10.bn1.bias', 'encoder_radar.layer3.3.bn3.num_batches_tracked', 'encoder_radar.layer3.14.bn1.weight', 'encoder_radar.layer3.1.bn3.running_mean', 'encoder_radar.layer3.19.conv2.weight', 'encoder_radar.layer3.15.bn1.bias', 'encoder_radar.layer3.18.conv2.weight', 'encoder_radar.layer3.10.bn1.running_mean', 'encoder_radar.layer3.19.bn3.running_var', 'encoder_radar.layer3.6.conv3.weight', 'encoder_radar.layer1.0.bn1.bias', 'encoder_radar.layer1.1.bn3.weight', 'encoder_radar.layer3.9.bn2.bias', 'encoder_radar.layer3.16.bn1.bias', 'encoder_radar.layer4.1.bn3.weight', 'encoder_radar.layer3.20.bn1.bias', 'encoder_radar.layer3.16.bn3.running_var', 'encoder_radar.layer3.20.bn3.weight', 'encoder_radar.layer3.15.bn1.running_var', 'encoder_radar.layer3.6.bn1.running_var', 'encoder_radar.layer2.3.bn2.running_var', 'encoder_radar.layer3.22.bn1.bias', 'encoder_radar.layer1.0.bn2.weight', 'encoder_radar.layer1.0.bn1.running_mean', 'encoder_radar.layer3.9.bn1.num_batches_tracked', 'encoder_radar.layer3.7.bn1.weight', 'encoder_radar.layer3.5.bn3.bias', 'encoder_radar.layer1.0.conv2.weight', 'encoder_radar.layer3.7.bn3.bias', 'encoder_radar.layer3.6.bn3.num_batches_tracked', 'encoder_radar.layer3.8.bn1.running_var', 'encoder_radar.layer3.13.bn1.running_var', 'encoder_radar.layer1.1.conv1.weight', 'encoder_radar.layer1.2.bn1.bias', 'encoder_radar.layer3.11.bn2.running_var', 'encoder_radar.layer3.0.conv3.weight', 'encoder_radar.layer3.18.bn3.running_mean', 'encoder_radar.layer3.10.bn3.running_mean', 'encoder_radar.layer3.17.bn1.num_batches_tracked', 'encoder_radar.layer3.14.bn2.bias', 'encoder_radar.layer3.22.bn3.running_var', 'encoder_radar.layer3.21.conv3.weight', 'encoder_radar.layer2.0.bn2.bias', 'encoder_radar.layer3.12.bn3.num_batches_tracked', 'encoder_radar.layer1.2.bn1.num_batches_tracked', 'encoder_radar.layer2.3.bn1.weight', 'encoder_radar.layer1.0.downsample.1.num_batches_tracked', 'encoder_radar.layer2.0.bn1.num_batches_tracked', 'encoder_radar.layer2.3.bn3.running_var', 'encoder_radar.layer3.17.bn3.running_var', 'encoder_radar.layer3.18.bn1.running_var', 'encoder_radar.layer3.19.bn3.bias', 'encoder_radar.layer3.21.bn3.num_batches_tracked', 'encoder_radar.layer4.1.bn2.weight', 'encoder_radar.layer3.22.bn2.running_var', 'encoder_radar.layer2.1.bn2.running_var', 'encoder_radar.layer3.9.bn2.running_mean', 'encoder_radar.layer3.17.conv2.weight', 'encoder_radar.layer2.2.conv1.weight', 'encoder_radar.layer3.0.bn1.running_mean', 'encoder_radar.layer3.10.bn3.num_batches_tracked', 'encoder_radar.layer2.2.bn1.running_mean', 'encoder_radar.layer3.9.conv2.weight', 'encoder_radar.layer4.2.conv1.weight', 'encoder_radar.layer3.18.bn2.running_var', 'encoder_radar.layer3.21.bn2.weight', 'encoder_radar.layer3.18.bn3.running_var', 'encoder_radar.layer1.0.bn1.running_var', 'encoder_radar.layer3.12.bn2.running_mean', 'encoder_radar.layer2.1.bn1.num_batches_tracked', 'encoder_radar.layer3.19.bn1.bias', 'encoder_radar.layer3.13.bn2.weight', 'encoder_radar.layer3.16.conv2.weight', 'encoder_radar.layer1.0.bn2.running_var', 'encoder_radar.layer3.17.bn3.weight', 'encoder_radar.layer2.1.bn1.bias', 'encoder_radar.layer2.1.bn2.running_mean', 'encoder_radar.layer3.11.bn3.num_batches_tracked', 'encoder_radar.layer3.22.bn2.num_batches_tracked', 'encoder_radar.layer3.0.bn2.num_batches_tracked', 'encoder_radar.layer1.0.downsample.1.running_mean', 'encoder_radar.layer3.10.bn1.num_batches_tracked', 'encoder_radar.layer3.9.conv3.weight', 'encoder_radar.layer2.1.bn3.running_mean', 'encoder_radar.layer3.19.bn1.weight', 'encoder_radar.layer3.5.bn2.bias', 'encoder_radar.layer3.1.bn1.num_batches_tracked', 'encoder_radar.layer3.4.bn1.num_batches_tracked', 'encoder_radar.layer3.2.bn1.bias', 'encoder_radar.layer3.8.bn3.weight', 'encoder_radar.layer3.14.bn1.num_batches_tracked', 'encoder_radar.layer2.0.conv2.weight', 'encoder_radar.layer3.14.bn1.bias', 'encoder_radar.layer1.1.bn3.bias', 'encoder_radar.layer3.8.bn2.bias', 'encoder_radar.layer3.9.bn3.weight', 'encoder_radar.layer2.0.downsample.1.weight', 'encoder_radar.layer3.14.bn2.weight', 'encoder_radar.layer3.6.bn2.bias', 'encoder_radar.layer3.12.conv1.weight', 'encoder_radar.layer4.2.conv3.weight', 'encoder_radar.layer3.17.bn3.bias', 'encoder_radar.layer1.0.conv1.weight', 'encoder_radar.layer3.7.bn3.running_var', 'encoder_radar.layer3.14.bn3.bias', 'encoder_radar.layer1.0.downsample.1.bias', 'encoder_radar.layer3.8.bn1.num_batches_tracked', 'encoder_radar.layer3.19.conv1.weight', 'encoder_radar.layer3.15.bn2.bias', 'encoder_radar.layer3.3.bn2.running_mean', 'encoder_radar.layer3.7.bn2.weight', 'encoder_radar.layer4.0.bn2.num_batches_tracked', 'encoder_radar.layer3.10.bn2.weight', 'encoder_radar.layer3.14.conv2.weight', 'encoder_radar.fc.bias', 'encoder_radar.layer2.0.bn3.num_batches_tracked', 'encoder_radar.layer3.10.bn3.bias', 'encoder_radar.layer1.1.bn1.bias', 'encoder_radar.layer3.8.bn1.weight', 'encoder_radar.layer3.14.bn2.running_var', 'encoder_radar.layer4.1.bn3.bias', 'encoder_radar.layer3.11.bn2.bias', 'encoder_radar.layer3.2.bn2.weight', 'encoder_radar.layer3.13.bn2.bias', 'encoder_radar.layer2.2.bn2.running_var', 'encoder_radar.layer3.12.bn3.running_mean', 'encoder_radar.layer3.4.bn1.weight', 'encoder_radar.layer2.1.bn3.weight', 'encoder_radar.layer4.1.conv3.weight', 'encoder_radar.layer2.0.bn3.running_mean', 'encoder_radar.layer3.21.bn2.num_batches_tracked', 'encoder_radar.layer1.2.bn3.bias', 'encoder_radar.layer3.4.bn3.num_batches_tracked', 'encoder_radar.layer3.3.conv2.weight', 'encoder_radar.layer3.5.bn1.bias', 'encoder_radar.layer3.19.conv3.weight', 'encoder_radar.layer3.5.bn2.weight', 'encoder_radar.layer4.0.bn1.num_batches_tracked', 'encoder_radar.layer3.18.bn2.running_mean', 'encoder_radar.layer1.2.conv1.weight', 'encoder_radar.layer3.13.bn3.num_batches_tracked', 'encoder_radar.layer1.2.conv2.weight', 'encoder_radar.layer3.13.bn2.num_batches_tracked', 'encoder_radar.layer4.1.bn2.running_mean', 'encoder_radar.layer3.13.bn2.running_var', 'encoder_radar.layer3.18.conv3.weight', 'encoder_radar.layer3.12.conv3.weight', 'encoder_radar.layer3.16.bn1.running_mean', 'encoder_radar.layer3.7.bn3.weight', 'encoder_radar.layer2.3.bn3.bias', 'encoder_radar.layer3.3.bn2.bias', 'encoder_radar.layer1.1.bn2.bias', 'encoder_radar.layer1.2.bn2.running_mean', 'encoder_radar.layer3.10.conv1.weight', 'encoder_radar.layer3.0.bn1.weight', 'encoder_radar.layer3.15.bn3.bias', 'encoder_radar.layer3.11.bn2.num_batches_tracked', 'encoder_radar.layer3.17.bn2.weight', 'encoder_radar.layer3.13.bn1.running_mean', 'encoder_radar.layer2.2.bn1.weight', 'encoder_radar.layer1.2.bn2.running_var', 'encoder_radar.layer2.3.bn1.running_mean', 'encoder_radar.layer3.9.bn2.num_batches_tracked', 'encoder_radar.layer3.19.bn2.weight', 'encoder_radar.layer3.1.conv1.weight', 'encoder_radar.layer4.2.bn2.num_batches_tracked', 'encoder_radar.layer2.0.downsample.1.running_mean', 'encoder_radar.layer3.16.bn3.weight', 'encoder_radar.layer4.2.bn3.bias', 'encoder_radar.layer2.1.bn3.num_batches_tracked', 'encoder_radar.layer3.5.bn1.running_var', 'encoder_radar.layer3.6.conv1.weight', 'encoder_radar.layer3.8.conv3.weight', 'encoder_radar.layer3.7.bn2.num_batches_tracked', 'encoder_radar.layer3.14.bn1.running_var', 'encoder_radar.layer3.11.bn2.running_mean', 'encoder_radar.layer3.21.bn2.running_mean', 'encoder_radar.layer3.4.conv2.weight', 'encoder_radar.layer3.11.bn1.num_batches_tracked', 'encoder_radar.layer1.1.bn2.weight', 'encoder_radar.layer3.16.bn2.bias', 'encoder_radar.layer3.1.bn2.bias', 'encoder_radar.layer3.14.bn1.running_mean', 'encoder_radar.layer2.3.bn2.running_mean', 'encoder_radar.layer3.12.bn2.weight', 'encoder_radar.layer3.12.bn2.running_var', 'encoder_radar.layer4.1.bn2.bias', 'encoder_radar.layer2.1.bn1.running_var', 'encoder_radar.layer3.7.conv3.weight']\n",
      "You should probably TRAIN this model on a down-stream task to be able to use it for predictions and inference.\n"
     ]
    }
   ],
   "source": [
    "# load model\n",
    "AutoConfig.register(\"this_gpt2\", ThisGPT2Config)\n",
    "AutoModel.register(ThisGPT2Config, ThisGPT2LMHeadModel)\n",
    "AutoModelForCausalLM.register(ThisGPT2Config, ThisGPT2LMHeadModel)\n",
    "AutoConfig.register(\"smallcap\", SmallCapConfig)\n",
    "AutoModel.register(SmallCapConfig, SmallCap)\n",
    "model = AutoModel.from_pretrained(\"Yova/SmallCap7M\")\n",
    "model= model.to(device)"
   ]
  },
  {
   "cell_type": "code",
   "execution_count": null,
   "metadata": {},
   "outputs": [],
   "source": [
    "# import torch\n",
    "# from torch import nn\n",
    "# from transformers import PreTrainedModel, BertConfig, BertModel\n",
    "\n",
    "# class RadarPatchEmbedding(nn.Module):\n",
    "#     def __init__(self, patch_size, hidden_size):\n",
    "#         super(RadarPatchEmbedding, self).__init__()\n",
    "#         self.patch_size = patch_size\n",
    "#         self.hidden_size = hidden_size\n",
    "#         self.projection = nn.Linear(patch_size, hidden_size)\n",
    "\n",
    "#     def forward(self, x):\n",
    "#         # x의 크기는 (batch_size, 1, seq_len)\n",
    "#         batch_size, channels, seq_len = x.shape\n",
    "#         num_patches = seq_len // self.patch_size\n",
    "#         x = x[:, :, :num_patches * self.patch_size]  # 패치 크기에 맞게 자르기\n",
    "#         x = x.view(batch_size, num_patches, self.patch_size)  # (batch_size, num_patches, patch_size)\n",
    "#         x = x.float()  # Linear 레이어 입력으로 변환\n",
    "#         x = self.projection(x)  # (batch_size, num_patches, hidden_size)\n",
    "#         return x\n",
    "\n",
    "# class RadarTransformer(PreTrainedModel):\n",
    "#     config_class = BertConfig\n",
    "#     base_model_prefix = \"bert\"\n",
    "\n",
    "#     def __init__(self, config):\n",
    "#         super(RadarTransformer, self).__init__(config)\n",
    "#         self.patch_embedding = RadarPatchEmbedding(config.patch_size, config.hidden_size)\n",
    "#         self.position_embeddings = nn.Embedding(config.max_position_embeddings, config.hidden_size)\n",
    "#         self.encoder = BertModel(config)\n",
    "#         self.layer_norm = nn.LayerNorm(config.hidden_size)\n",
    "\n",
    "#     def forward(self, input_ids):\n",
    "#         # 패치 임베딩 생성\n",
    "#         embeddings = self.patch_embedding(input_ids)\n",
    "#         # 포지셔널 임베딩 추가\n",
    "#         position_ids = torch.arange(embeddings.size(1), device=input_ids.device).unsqueeze(0).expand(embeddings.size(0), -1)\n",
    "#         position_embeddings = self.position_embeddings(position_ids)\n",
    "#         embeddings += position_embeddings\n",
    "\n",
    "#         # Transformer 인코더 통과\n",
    "#         encoder_outputs = self.encoder(inputs_embeds=embeddings)\n",
    "#         sequence_output = encoder_outputs.last_hidden_state\n",
    "\n",
    "#         # 출력 정규화\n",
    "#         sequence_output = self.layer_norm(sequence_output)\n",
    "#         return sequence_output\n",
    "\n",
    "# # Config 정의\n",
    "# class RadarConfig(BertConfig):\n",
    "#     def __init__(self, patch_size, hidden_size=768, max_position_embeddings=50, **kwargs):\n",
    "#         super().__init__(**kwargs)\n",
    "#         self.patch_size = patch_size\n",
    "#         self.hidden_size = hidden_size\n",
    "#         self.max_position_embeddings = max_position_embeddings\n",
    "\n",
    "# # radars 데이터 샘플\n",
    "# # radars = torch.rand(10, 1, 1600).to(\"cuda\")  # 예: (batch_size, channels, seq_len)\n",
    "# print(radars.shape)\n",
    "# # 패치 크기를 seq_len에 맞춰 설정 (여기서는 32로 가정)\n",
    "# seq_len = radars.shape[2]\n",
    "# num_patches = 50\n",
    "# patch_size = seq_len // num_patches  # 패치 크기 조정\n",
    "\n",
    "# # 모델 초기화\n",
    "# config = RadarConfig(patch_size=patch_size)\n",
    "# encoder_search_resnet1D_768 = RadarTransformer(config).to(\"cuda\")\n",
    "\n",
    "\n",
    "\n",
    "# # 모델 인코딩\n",
    "# outputs = encoder_search_resnet1D_768(radars.to(device))\n",
    "\n",
    "# # 출력 크기 확인\n",
    "# print(outputs.shape)  # 예상 출력: torch.Size([10, 50, 768])\n"
   ]
  },
  {
   "cell_type": "code",
   "execution_count": null,
   "metadata": {},
   "outputs": [
    {
     "name": "stdout",
     "output_type": "stream",
     "text": [
      "torch.Size([4, 50, 768])\n"
     ]
    }
   ],
   "source": [
    "import torch\n",
    "import clip\n",
    "from torchvision import transforms\n",
    "from PIL import Image\n",
    "# model.encoder의 파라미터를 고정\n",
    "for param in model.encoder.parameters():\n",
    "    param.requires_grad = False\n",
    "    \n",
    "    \n",
    "# Define preprocessing function\n",
    "def prepro_image_features(images, retrieval_model, device, batch_size=2):\n",
    "    resize_transform = transforms.Resize((224, 224))\n",
    "    resized_images = torch.stack([resize_transform(image) for image in images])\n",
    "    resized_images = resized_images.to(device).float()#.half()\n",
    "    \n",
    "    image_features_list = []\n",
    "    \n",
    "    for i in range(0, len(resized_images), batch_size):\n",
    "        batch_images = resized_images[i:i + batch_size]\n",
    "        torch.cuda.empty_cache()\n",
    "        \n",
    "        with torch.no_grad():\n",
    "            features = model.encoder(batch_images.to(device))\n",
    "            image_features_batch = features.last_hidden_state.reshape(-1,50,768)\n",
    "\n",
    "        image_features_list.append(image_features_batch)\n",
    "\n",
    "    image_features = torch.concat(image_features_list, axis=0)\n",
    "    \n",
    "    return torch.Tensor(image_features).to(device).float()\n",
    "\n",
    "# Example usage\n",
    "ran = torch.randn(3, 3, 224, 224)  # Replace with your actual images\n",
    "image_features = prepro_image_features(images, retrieval_model, device, batch_size=32)\n",
    "print(image_features.shape)\n"
   ]
  },
  {
   "cell_type": "code",
   "execution_count": null,
   "metadata": {},
   "outputs": [
    {
     "name": "stdout",
     "output_type": "stream",
     "text": [
      "torch.Size([4, 1, 800])\n",
      "torch.Size([4, 1024])\n",
      "torch.Size([4, 38400])\n"
     ]
    }
   ],
   "source": [
    "from model import *\n",
    "from model import *\n",
    "import torch.backends.cudnn as cudnn\n",
    "\n",
    "# CUDA 및 CUDNN 설정 조정\n",
    "cudnn.enabled = True\n",
    "cudnn.benchmark = True\n",
    "\n",
    "device = \"cuda\" if torch.cuda.is_available() else \"cpu\"\n",
    "# 1D 데이터 예제\n",
    "# 배치 크기 x 채널 수 x 데이터 길이\n",
    "input_data = radars.to(device)\n",
    "print(input_data.shape)\n",
    "# 1D ResNet-50 v2 모델 인스턴스 생성\n",
    "# encoder_search_resnet1D_1024 = ResNet1D(Bottleneck1D, [3, 4, 6, 3], 1024)\n",
    "# encoder_search_resnet1D_768 = ResNet1D(Bottleneck1D, [3, 4, 6, 3], 768*50)\n",
    "\n",
    "encoder_search_resnet1D_1024  = ResNet1D_101(Bottleneck1D_101, [3, 4, 23, 3], 1024)\n",
    "\n",
    "encoder_search_resnet1D_768 = ResNet1D_101(Bottleneck1D_101, [3, 4, 23, 3], 768*50)\n",
    "\n",
    "\n",
    "encoder_search_resnet1D_1024.to(device)\n",
    "encoder_search_resnet1D_768.to(device)\n",
    "output = encoder_search_resnet1D_1024(input_data)\n",
    "print(output.shape)\n",
    "output = encoder_search_resnet1D_768(input_data)\n",
    "print(output.shape)"
   ]
  },
  {
   "cell_type": "code",
   "execution_count": null,
   "metadata": {},
   "outputs": [
    {
     "name": "stdout",
     "output_type": "stream",
     "text": [
      "Train dataset size: 18347\n",
      "Validation dataset size: 2293\n",
      "Test dataset size: 2294\n"
     ]
    }
   ],
   "source": [
    "from sklearn.model_selection import train_test_split\n",
    "from torch.utils.data import DataLoader, Subset\n",
    "import random\n",
    "\n",
    "# 데이터셋 인덱스 생성\n",
    "indices = list(range(len(paired_dataset)))\n",
    "train_indices, temp_indices = train_test_split(indices, test_size=0.2, random_state=42)\n",
    "val_indices, test_indices = train_test_split(temp_indices, test_size=0.5, random_state=42)\n",
    "\n",
    "# Subset을 사용하여 훈련, 검증 및 테스트 데이터셋 생성\n",
    "train_dataset = Subset(paired_dataset, train_indices)\n",
    "val_dataset = Subset(paired_dataset, val_indices)\n",
    "test_dataset = Subset(paired_dataset, test_indices)\n",
    "\n",
    "# DataLoader 설정\n",
    "batch_size = 64\n",
    "train_loader = DataLoader(train_dataset, batch_size=batch_size, shuffle=True)\n",
    "val_loader = DataLoader(val_dataset, batch_size=batch_size, shuffle=True)\n",
    "test_loader = DataLoader(test_dataset, batch_size=batch_size, shuffle=True)\n",
    "\n",
    "# 데이터셋 크기 확인\n",
    "print(f'Train dataset size: {len(train_dataset)}')\n",
    "print(f'Validation dataset size: {len(val_dataset)}')\n",
    "print(f'Test dataset size: {len(test_dataset)}')\n"
   ]
  },
  {
   "cell_type": "code",
   "execution_count": null,
   "metadata": {},
   "outputs": [
    {
     "name": "stderr",
     "output_type": "stream",
     "text": [
      "Failed to detect the name of this notebook, you can set it manually with the WANDB_NOTEBOOK_NAME environment variable to enable code saving.\n",
      "\u001b[34m\u001b[1mwandb\u001b[0m: Currently logged in as: \u001b[33mkycl0131\u001b[0m. Use \u001b[1m`wandb login --relogin`\u001b[0m to force relogin\n"
     ]
    },
    {
     "data": {
      "text/html": [
       "wandb version 0.17.3 is available!  To upgrade, please run:\n",
       " $ pip install wandb --upgrade"
      ],
      "text/plain": [
       "<IPython.core.display.HTML object>"
      ]
     },
     "metadata": {},
     "output_type": "display_data"
    },
    {
     "data": {
      "text/html": [
       "Tracking run with wandb version 0.17.0"
      ],
      "text/plain": [
       "<IPython.core.display.HTML object>"
      ]
     },
     "metadata": {},
     "output_type": "display_data"
    },
    {
     "data": {
      "text/html": [
       "Run data is saved locally in <code>/home/yunkwan/project/radarclip/wandb/run-20240625_174636-zzvvvkdf</code>"
      ],
      "text/plain": [
       "<IPython.core.display.HTML object>"
      ]
     },
     "metadata": {},
     "output_type": "display_data"
    },
    {
     "data": {
      "text/html": [
       "Syncing run <strong><a href='https://wandb.ai/kycl0131/encoder_search_resnet1D_768/runs/zzvvvkdf' target=\"_blank\">blooming-yogurt-118</a></strong> to <a href='https://wandb.ai/kycl0131/encoder_search_resnet1D_768' target=\"_blank\">Weights & Biases</a> (<a href='https://wandb.me/run' target=\"_blank\">docs</a>)<br/>"
      ],
      "text/plain": [
       "<IPython.core.display.HTML object>"
      ]
     },
     "metadata": {},
     "output_type": "display_data"
    },
    {
     "data": {
      "text/html": [
       " View project at <a href='https://wandb.ai/kycl0131/encoder_search_resnet1D_768' target=\"_blank\">https://wandb.ai/kycl0131/encoder_search_resnet1D_768</a>"
      ],
      "text/plain": [
       "<IPython.core.display.HTML object>"
      ]
     },
     "metadata": {},
     "output_type": "display_data"
    },
    {
     "data": {
      "text/html": [
       " View run at <a href='https://wandb.ai/kycl0131/encoder_search_resnet1D_768/runs/zzvvvkdf' target=\"_blank\">https://wandb.ai/kycl0131/encoder_search_resnet1D_768/runs/zzvvvkdf</a>"
      ],
      "text/plain": [
       "<IPython.core.display.HTML object>"
      ]
     },
     "metadata": {},
     "output_type": "display_data"
    },
    {
     "name": "stderr",
     "output_type": "stream",
     "text": [
      "Epoch 1/100: 100%|██████████| 287/287 [01:20<00:00,  3.55it/s, loss=0.0774]\n"
     ]
    },
    {
     "name": "stdout",
     "output_type": "stream",
     "text": [
      "Epoch 1/100, Train Loss: 0.0774, Val Loss: 0.0751\n"
     ]
    },
    {
     "name": "stderr",
     "output_type": "stream",
     "text": [
      "Epoch 2/100: 100%|██████████| 287/287 [01:20<00:00,  3.55it/s, loss=0.057] \n"
     ]
    },
    {
     "name": "stdout",
     "output_type": "stream",
     "text": [
      "Epoch 2/100, Train Loss: 0.0570, Val Loss: 0.0587\n"
     ]
    },
    {
     "name": "stderr",
     "output_type": "stream",
     "text": [
      "Epoch 3/100: 100%|██████████| 287/287 [01:21<00:00,  3.53it/s, loss=0.0531]\n"
     ]
    },
    {
     "name": "stdout",
     "output_type": "stream",
     "text": [
      "Epoch 3/100, Train Loss: 0.0531, Val Loss: 0.0519\n"
     ]
    },
    {
     "name": "stderr",
     "output_type": "stream",
     "text": [
      "Epoch 4/100: 100%|██████████| 287/287 [01:21<00:00,  3.54it/s, loss=0.0491]\n"
     ]
    },
    {
     "name": "stdout",
     "output_type": "stream",
     "text": [
      "Epoch 4/100, Train Loss: 0.0491, Val Loss: 0.0499\n"
     ]
    },
    {
     "name": "stderr",
     "output_type": "stream",
     "text": [
      "Epoch 5/100: 100%|██████████| 287/287 [01:20<00:00,  3.56it/s, loss=0.0454]\n"
     ]
    },
    {
     "name": "stdout",
     "output_type": "stream",
     "text": [
      "Epoch 5/100, Train Loss: 0.0454, Val Loss: 0.0487\n"
     ]
    },
    {
     "name": "stderr",
     "output_type": "stream",
     "text": [
      "Epoch 6/100: 100%|██████████| 287/287 [01:19<00:00,  3.61it/s, loss=0.041] \n"
     ]
    },
    {
     "name": "stdout",
     "output_type": "stream",
     "text": [
      "Epoch 6/100, Train Loss: 0.0410, Val Loss: 0.0422\n"
     ]
    },
    {
     "name": "stderr",
     "output_type": "stream",
     "text": [
      "Epoch 7/100: 100%|██████████| 287/287 [01:19<00:00,  3.62it/s, loss=0.036] \n"
     ]
    },
    {
     "name": "stdout",
     "output_type": "stream",
     "text": [
      "Epoch 7/100, Train Loss: 0.0360, Val Loss: 0.0378\n"
     ]
    },
    {
     "name": "stderr",
     "output_type": "stream",
     "text": [
      "Epoch 8/100: 100%|██████████| 287/287 [01:20<00:00,  3.58it/s, loss=0.0329]\n"
     ]
    },
    {
     "name": "stdout",
     "output_type": "stream",
     "text": [
      "Epoch 8/100, Train Loss: 0.0329, Val Loss: 0.0324\n"
     ]
    },
    {
     "name": "stderr",
     "output_type": "stream",
     "text": [
      "Epoch 9/100: 100%|██████████| 287/287 [01:20<00:00,  3.55it/s, loss=0.0312]\n"
     ]
    },
    {
     "name": "stdout",
     "output_type": "stream",
     "text": [
      "Epoch 9/100, Train Loss: 0.0312, Val Loss: 0.0322\n"
     ]
    },
    {
     "name": "stderr",
     "output_type": "stream",
     "text": [
      "Epoch 10/100: 100%|██████████| 287/287 [01:22<00:00,  3.48it/s, loss=0.0302]\n"
     ]
    },
    {
     "name": "stdout",
     "output_type": "stream",
     "text": [
      "Epoch 10/100, Train Loss: 0.0302, Val Loss: 0.0294\n"
     ]
    },
    {
     "name": "stderr",
     "output_type": "stream",
     "text": [
      "Epoch 11/100: 100%|██████████| 287/287 [01:21<00:00,  3.52it/s, loss=0.029] \n"
     ]
    },
    {
     "name": "stdout",
     "output_type": "stream",
     "text": [
      "Epoch 11/100, Train Loss: 0.0290, Val Loss: 0.0291\n"
     ]
    },
    {
     "name": "stderr",
     "output_type": "stream",
     "text": [
      "Epoch 12/100: 100%|██████████| 287/287 [01:21<00:00,  3.51it/s, loss=0.0281] \n"
     ]
    },
    {
     "name": "stdout",
     "output_type": "stream",
     "text": [
      "Epoch 12/100, Train Loss: 0.0281, Val Loss: 0.0295\n"
     ]
    },
    {
     "name": "stderr",
     "output_type": "stream",
     "text": [
      "Epoch 13/100: 100%|██████████| 287/287 [01:22<00:00,  3.49it/s, loss=0.0274] \n"
     ]
    },
    {
     "name": "stdout",
     "output_type": "stream",
     "text": [
      "Epoch 13/100, Train Loss: 0.0274, Val Loss: 0.0272\n"
     ]
    },
    {
     "name": "stderr",
     "output_type": "stream",
     "text": [
      "Epoch 14/100: 100%|██████████| 287/287 [01:21<00:00,  3.54it/s, loss=0.0267] \n"
     ]
    },
    {
     "name": "stdout",
     "output_type": "stream",
     "text": [
      "Epoch 14/100, Train Loss: 0.0267, Val Loss: 0.0275\n"
     ]
    },
    {
     "name": "stderr",
     "output_type": "stream",
     "text": [
      "Epoch 15/100: 100%|██████████| 287/287 [01:22<00:00,  3.48it/s, loss=0.0264] \n"
     ]
    },
    {
     "name": "stdout",
     "output_type": "stream",
     "text": [
      "Epoch 15/100, Train Loss: 0.0264, Val Loss: 0.0263\n"
     ]
    },
    {
     "name": "stderr",
     "output_type": "stream",
     "text": [
      "Epoch 16/100: 100%|██████████| 287/287 [01:22<00:00,  3.48it/s, loss=0.0257] \n"
     ]
    },
    {
     "name": "stdout",
     "output_type": "stream",
     "text": [
      "Epoch 16/100, Train Loss: 0.0257, Val Loss: 0.0254\n"
     ]
    },
    {
     "name": "stderr",
     "output_type": "stream",
     "text": [
      "Epoch 17/100: 100%|██████████| 287/287 [01:20<00:00,  3.54it/s, loss=0.0254] \n"
     ]
    },
    {
     "name": "stdout",
     "output_type": "stream",
     "text": [
      "Epoch 17/100, Train Loss: 0.0254, Val Loss: 0.0249\n"
     ]
    },
    {
     "name": "stderr",
     "output_type": "stream",
     "text": [
      "Epoch 18/100: 100%|██████████| 287/287 [01:22<00:00,  3.50it/s, loss=0.0251] \n"
     ]
    },
    {
     "name": "stdout",
     "output_type": "stream",
     "text": [
      "Epoch 18/100, Train Loss: 0.0251, Val Loss: 0.0253\n"
     ]
    },
    {
     "name": "stderr",
     "output_type": "stream",
     "text": [
      "Epoch 19/100: 100%|██████████| 287/287 [01:21<00:00,  3.53it/s, loss=0.0248] \n"
     ]
    },
    {
     "name": "stdout",
     "output_type": "stream",
     "text": [
      "Epoch 19/100, Train Loss: 0.0248, Val Loss: 0.0241\n"
     ]
    },
    {
     "name": "stderr",
     "output_type": "stream",
     "text": [
      "Epoch 20/100: 100%|██████████| 287/287 [01:22<00:00,  3.48it/s, loss=0.0246] \n"
     ]
    },
    {
     "name": "stdout",
     "output_type": "stream",
     "text": [
      "Epoch 20/100, Train Loss: 0.0246, Val Loss: 0.0250\n"
     ]
    },
    {
     "name": "stderr",
     "output_type": "stream",
     "text": [
      "Epoch 21/100: 100%|██████████| 287/287 [01:21<00:00,  3.53it/s, loss=0.0242] \n"
     ]
    },
    {
     "name": "stdout",
     "output_type": "stream",
     "text": [
      "Epoch 21/100, Train Loss: 0.0242, Val Loss: 0.0244\n"
     ]
    },
    {
     "name": "stderr",
     "output_type": "stream",
     "text": [
      "Epoch 22/100: 100%|██████████| 287/287 [01:22<00:00,  3.46it/s, loss=0.0239] \n"
     ]
    },
    {
     "name": "stdout",
     "output_type": "stream",
     "text": [
      "Epoch 22/100, Train Loss: 0.0239, Val Loss: 0.0243\n"
     ]
    },
    {
     "name": "stderr",
     "output_type": "stream",
     "text": [
      "Epoch 23/100: 100%|██████████| 287/287 [01:21<00:00,  3.51it/s, loss=0.0238] \n"
     ]
    },
    {
     "name": "stdout",
     "output_type": "stream",
     "text": [
      "Epoch 23/100, Train Loss: 0.0238, Val Loss: 0.0237\n"
     ]
    },
    {
     "name": "stderr",
     "output_type": "stream",
     "text": [
      "Epoch 24/100: 100%|██████████| 287/287 [01:20<00:00,  3.55it/s, loss=0.0236] \n"
     ]
    },
    {
     "name": "stdout",
     "output_type": "stream",
     "text": [
      "Epoch 24/100, Train Loss: 0.0236, Val Loss: 0.0240\n"
     ]
    },
    {
     "name": "stderr",
     "output_type": "stream",
     "text": [
      "Epoch 25/100: 100%|██████████| 287/287 [01:22<00:00,  3.49it/s, loss=0.0234] \n"
     ]
    },
    {
     "name": "stdout",
     "output_type": "stream",
     "text": [
      "Epoch 25/100, Train Loss: 0.0234, Val Loss: 0.0252\n"
     ]
    },
    {
     "name": "stderr",
     "output_type": "stream",
     "text": [
      "Epoch 26/100: 100%|██████████| 287/287 [01:20<00:00,  3.55it/s, loss=0.0231] \n"
     ]
    },
    {
     "name": "stdout",
     "output_type": "stream",
     "text": [
      "Epoch 26/100, Train Loss: 0.0231, Val Loss: 0.0230\n"
     ]
    },
    {
     "name": "stderr",
     "output_type": "stream",
     "text": [
      "Epoch 27/100: 100%|██████████| 287/287 [01:21<00:00,  3.53it/s, loss=0.0233] \n"
     ]
    },
    {
     "name": "stdout",
     "output_type": "stream",
     "text": [
      "Epoch 27/100, Train Loss: 0.0233, Val Loss: 0.0235\n"
     ]
    },
    {
     "name": "stderr",
     "output_type": "stream",
     "text": [
      "Epoch 28/100: 100%|██████████| 287/287 [01:20<00:00,  3.56it/s, loss=0.0231] \n"
     ]
    },
    {
     "name": "stdout",
     "output_type": "stream",
     "text": [
      "Epoch 28/100, Train Loss: 0.0231, Val Loss: 0.0229\n"
     ]
    },
    {
     "name": "stderr",
     "output_type": "stream",
     "text": [
      "Epoch 29/100: 100%|██████████| 287/287 [01:20<00:00,  3.58it/s, loss=0.0228] \n"
     ]
    },
    {
     "name": "stdout",
     "output_type": "stream",
     "text": [
      "Epoch 29/100, Train Loss: 0.0228, Val Loss: 0.0227\n"
     ]
    },
    {
     "name": "stderr",
     "output_type": "stream",
     "text": [
      "Epoch 30/100: 100%|██████████| 287/287 [01:19<00:00,  3.60it/s, loss=0.0228] \n"
     ]
    },
    {
     "name": "stdout",
     "output_type": "stream",
     "text": [
      "Epoch 30/100, Train Loss: 0.0228, Val Loss: 0.0231\n"
     ]
    },
    {
     "name": "stderr",
     "output_type": "stream",
     "text": [
      "Epoch 31/100: 100%|██████████| 287/287 [01:21<00:00,  3.50it/s, loss=0.0227] \n"
     ]
    },
    {
     "name": "stdout",
     "output_type": "stream",
     "text": [
      "Epoch 31/100, Train Loss: 0.0227, Val Loss: 0.0222\n"
     ]
    },
    {
     "name": "stderr",
     "output_type": "stream",
     "text": [
      "Epoch 32/100: 100%|██████████| 287/287 [01:21<00:00,  3.53it/s, loss=0.0226] \n"
     ]
    },
    {
     "name": "stdout",
     "output_type": "stream",
     "text": [
      "Epoch 32/100, Train Loss: 0.0226, Val Loss: 0.0226\n"
     ]
    },
    {
     "name": "stderr",
     "output_type": "stream",
     "text": [
      "Epoch 33/100: 100%|██████████| 287/287 [01:21<00:00,  3.52it/s, loss=0.0224] \n"
     ]
    },
    {
     "name": "stdout",
     "output_type": "stream",
     "text": [
      "Epoch 33/100, Train Loss: 0.0224, Val Loss: 0.0220\n"
     ]
    },
    {
     "name": "stderr",
     "output_type": "stream",
     "text": [
      "Epoch 34/100: 100%|██████████| 287/287 [01:22<00:00,  3.49it/s, loss=0.0223] \n"
     ]
    },
    {
     "name": "stdout",
     "output_type": "stream",
     "text": [
      "Epoch 34/100, Train Loss: 0.0223, Val Loss: 0.0219\n"
     ]
    },
    {
     "name": "stderr",
     "output_type": "stream",
     "text": [
      "Epoch 35/100: 100%|██████████| 287/287 [01:21<00:00,  3.54it/s, loss=0.0222] \n"
     ]
    },
    {
     "name": "stdout",
     "output_type": "stream",
     "text": [
      "Epoch 35/100, Train Loss: 0.0222, Val Loss: 0.0227\n"
     ]
    },
    {
     "name": "stderr",
     "output_type": "stream",
     "text": [
      "Epoch 36/100: 100%|██████████| 287/287 [01:20<00:00,  3.55it/s, loss=0.0222] \n"
     ]
    },
    {
     "name": "stdout",
     "output_type": "stream",
     "text": [
      "Epoch 36/100, Train Loss: 0.0222, Val Loss: 0.0220\n"
     ]
    },
    {
     "name": "stderr",
     "output_type": "stream",
     "text": [
      "Epoch 37/100: 100%|██████████| 287/287 [01:22<00:00,  3.49it/s, loss=0.0221] \n"
     ]
    },
    {
     "name": "stdout",
     "output_type": "stream",
     "text": [
      "Epoch 37/100, Train Loss: 0.0221, Val Loss: 0.0218\n"
     ]
    },
    {
     "name": "stderr",
     "output_type": "stream",
     "text": [
      "Epoch 38/100: 100%|██████████| 287/287 [01:22<00:00,  3.48it/s, loss=0.022]  \n"
     ]
    },
    {
     "name": "stdout",
     "output_type": "stream",
     "text": [
      "Epoch 38/100, Train Loss: 0.0220, Val Loss: 0.0213\n"
     ]
    },
    {
     "name": "stderr",
     "output_type": "stream",
     "text": [
      "Epoch 39/100: 100%|██████████| 287/287 [01:22<00:00,  3.47it/s, loss=0.0219] \n"
     ]
    },
    {
     "name": "stdout",
     "output_type": "stream",
     "text": [
      "Epoch 39/100, Train Loss: 0.0219, Val Loss: 0.0227\n"
     ]
    },
    {
     "name": "stderr",
     "output_type": "stream",
     "text": [
      "Epoch 40/100: 100%|██████████| 287/287 [01:23<00:00,  3.43it/s, loss=0.0218] \n"
     ]
    },
    {
     "name": "stdout",
     "output_type": "stream",
     "text": [
      "Epoch 40/100, Train Loss: 0.0218, Val Loss: 0.0213\n"
     ]
    },
    {
     "name": "stderr",
     "output_type": "stream",
     "text": [
      "Epoch 41/100: 100%|██████████| 287/287 [01:20<00:00,  3.56it/s, loss=0.0217] \n"
     ]
    },
    {
     "name": "stdout",
     "output_type": "stream",
     "text": [
      "Epoch 41/100, Train Loss: 0.0217, Val Loss: 0.0212\n"
     ]
    },
    {
     "name": "stderr",
     "output_type": "stream",
     "text": [
      "Epoch 42/100: 100%|██████████| 287/287 [01:21<00:00,  3.51it/s, loss=0.0217] \n"
     ]
    },
    {
     "name": "stdout",
     "output_type": "stream",
     "text": [
      "Epoch 42/100, Train Loss: 0.0217, Val Loss: 0.0214\n"
     ]
    },
    {
     "name": "stderr",
     "output_type": "stream",
     "text": [
      "Epoch 43/100: 100%|██████████| 287/287 [01:22<00:00,  3.46it/s, loss=0.0216] \n"
     ]
    },
    {
     "name": "stdout",
     "output_type": "stream",
     "text": [
      "Epoch 43/100, Train Loss: 0.0216, Val Loss: 0.0217\n"
     ]
    },
    {
     "name": "stderr",
     "output_type": "stream",
     "text": [
      "Epoch 44/100: 100%|██████████| 287/287 [01:21<00:00,  3.52it/s, loss=0.0216] \n"
     ]
    },
    {
     "name": "stdout",
     "output_type": "stream",
     "text": [
      "Epoch 44/100, Train Loss: 0.0216, Val Loss: 0.0220\n"
     ]
    },
    {
     "name": "stderr",
     "output_type": "stream",
     "text": [
      "Epoch 45/100: 100%|██████████| 287/287 [01:21<00:00,  3.51it/s, loss=0.0216] \n"
     ]
    },
    {
     "name": "stdout",
     "output_type": "stream",
     "text": [
      "Epoch 45/100, Train Loss: 0.0216, Val Loss: 0.0214\n"
     ]
    },
    {
     "name": "stderr",
     "output_type": "stream",
     "text": [
      "Epoch 46/100: 100%|██████████| 287/287 [01:22<00:00,  3.46it/s, loss=0.0216] \n"
     ]
    },
    {
     "name": "stdout",
     "output_type": "stream",
     "text": [
      "Epoch 46/100, Train Loss: 0.0216, Val Loss: 0.0213\n",
      "Early stopping triggered after 46 epochs.\n"
     ]
    },
    {
     "data": {
      "application/vnd.jupyter.widget-view+json": {
       "model_id": "e794649cd7664b1daf9b78fcdc5dfba0",
       "version_major": 2,
       "version_minor": 0
      },
      "text/plain": [
       "VBox(children=(Label(value='0.002 MB of 0.002 MB uploaded\\r'), FloatProgress(value=1.0, max=1.0)))"
      ]
     },
     "metadata": {},
     "output_type": "display_data"
    },
    {
     "data": {
      "text/html": [
       "<style>\n",
       "    table.wandb td:nth-child(1) { padding: 0 10px; text-align: left ; width: auto;} td:nth-child(2) {text-align: left ; width: 100%}\n",
       "    .wandb-row { display: flex; flex-direction: row; flex-wrap: wrap; justify-content: flex-start; width: 100% }\n",
       "    .wandb-col { display: flex; flex-direction: column; flex-basis: 100%; flex: 1; padding: 10px; }\n",
       "    </style>\n",
       "<div class=\"wandb-row\"><div class=\"wandb-col\"><h3>Run history:</h3><br/><table class=\"wandb\"><tr><td>epoch</td><td>▁▁▁▁▂▂▂▂▂▃▃▃▃▃▃▄▄▄▄▄▅▅▅▅▅▆▆▆▆▆▆▇▇▇▇▇████</td></tr><tr><td>train_loss</td><td>█▅▅▄▄▃▃▂▂▂▂▂▂▂▁▁▁▁▁▁▁▁▁▁▁▁▁▁▁▁▁▁▁▁▁▁▁▁▁▁</td></tr><tr><td>val_loss</td><td>█▆▅▅▅▄▃▂▂▂▂▂▂▂▁▂▁▁▁▁▁▂▁▁▁▁▁▁▁▁▁▁▁▁▁▁▁▁▁▁</td></tr></table><br/></div><div class=\"wandb-col\"><h3>Run summary:</h3><br/><table class=\"wandb\"><tr><td>epoch</td><td>46</td></tr><tr><td>train_loss</td><td>0.02155</td></tr><tr><td>val_loss</td><td>0.02129</td></tr></table><br/></div></div>"
      ],
      "text/plain": [
       "<IPython.core.display.HTML object>"
      ]
     },
     "metadata": {},
     "output_type": "display_data"
    },
    {
     "data": {
      "text/html": [
       " View run <strong style=\"color:#cdcd00\">blooming-yogurt-118</strong> at: <a href='https://wandb.ai/kycl0131/encoder_search_resnet1D_768/runs/zzvvvkdf' target=\"_blank\">https://wandb.ai/kycl0131/encoder_search_resnet1D_768/runs/zzvvvkdf</a><br/> View project at: <a href='https://wandb.ai/kycl0131/encoder_search_resnet1D_768' target=\"_blank\">https://wandb.ai/kycl0131/encoder_search_resnet1D_768</a><br/>Synced 6 W&B file(s), 0 media file(s), 0 artifact file(s) and 0 other file(s)"
      ],
      "text/plain": [
       "<IPython.core.display.HTML object>"
      ]
     },
     "metadata": {},
     "output_type": "display_data"
    },
    {
     "data": {
      "text/html": [
       "Find logs at: <code>./wandb/run-20240625_174636-zzvvvkdf/logs</code>"
      ],
      "text/plain": [
       "<IPython.core.display.HTML object>"
      ]
     },
     "metadata": {},
     "output_type": "display_data"
    }
   ],
   "source": [
    "# 768 학습\n",
    "\n",
    "# 모델, 손실 함수, 최적화기 정의\n",
    "import torch.optim as optim\n",
    "import wandb\n",
    "from tqdm import tqdm\n",
    "from PIL import Image\n",
    "import torch.nn as nn\n",
    "\n",
    "# WandB 초기화\n",
    "wandb.init(project=\"encoder_search_resnet1D_768\")\n",
    "\n",
    "criterion = nn.MSELoss()\n",
    "#cos similarity 사용\n",
    "# criterion = nn.CosineSimilarity(dim=1)  # 벡터 간의 코사인 유사도 계산\n",
    "# similarity_to_loss = lambda x: 1 - x  # 코사인 유사도를 손실로 변환\n",
    "\n",
    "\n",
    "# optimizer = optim.Adam(encoder_search_resnet1D_768.parameters(), lr=0.001)\n",
    "optimizer = optim.Adam(encoder_search_resnet1D_768.parameters(), lr=0.001, weight_decay=1e-5) \n",
    "# paired_dataloader sklearn split train val test\n",
    "device = \"cuda\" if torch.cuda.is_available() else \"cpu\"\n",
    "\n",
    "# 학습 및 검증 루프\n",
    "num_epochs = 100\n",
    "early_stopping_patience = 5  # 개선되지 않는 에폭 수\n",
    "best_val_loss = float('inf')\n",
    "patience_counter = 0\n",
    "\n",
    "for epoch in range(num_epochs):\n",
    "    encoder_search_resnet1D_768.train()\n",
    "    running_loss = 0.0\n",
    "    train_loader_tqdm = tqdm(train_loader, desc=f\"Epoch {epoch + 1}/{num_epochs}\")\n",
    "\n",
    "    for images, radars,_,_,_ in train_loader_tqdm:\n",
    "        images = images.to(device).float()\n",
    "        radars = radars.to(device).float()\n",
    "        optimizer.zero_grad()\n",
    "\n",
    "        radars_features = encoder_search_resnet1D_768(radars)\n",
    "        # images_features = CLIP.get_image_features(images)\n",
    "\n",
    "        images_features = prepro_image_features(images, retrieval_model, device, batch_size=32)\n",
    "        \n",
    "        # print(radars_features.shape, images_features.shape)\n",
    "        loss = criterion(radars_features.reshape(-1,50,768), images_features)\n",
    "        # similarity = criterion(radars_features.reshape(-1,50,768), images_features)\n",
    "        # loss = similarity_to_loss(similarity).mean() \n",
    "\n",
    "        loss.backward()\n",
    "        optimizer.step()\n",
    "\n",
    "        running_loss += loss.item() * images.size(0)\n",
    "        train_loader_tqdm.set_postfix(loss=running_loss / len(train_dataset))\n",
    "\n",
    "    epoch_loss = running_loss / len(train_dataset)\n",
    "    wandb.log({\"train_loss\": epoch_loss, \"epoch\": epoch + 1})\n",
    "\n",
    "    # 검증 단계\n",
    "    encoder_search_resnet1D_768.eval()\n",
    "    val_loss = 0.0\n",
    "\n",
    "    with torch.no_grad():\n",
    "        for images, radars,_,_,_ in val_loader:\n",
    "            images = images.to(device).float()\n",
    "            radars = radars.to(device).float()\n",
    "\n",
    "            radars_features = encoder_search_resnet1D_768(radars)\n",
    "            # images_features = CLIP.get_image_features(images)\n",
    "            images_features = prepro_image_features(images, retrieval_model, device, batch_size=32)\n",
    "\n",
    "            loss = criterion(radars_features.reshape(-1,50,768), images_features)\n",
    "            # similarity = criterion(radars_features.reshape(-1,50,768), images_features)\n",
    "            # loss = similarity_to_loss(similarity).mean()  # 코사인 유사도를 손실로 변환\n",
    "\n",
    "\n",
    "            val_loss += loss.item() * images.size(0)\n",
    "\n",
    "    val_loss = val_loss / len(val_dataset)\n",
    "    wandb.log({\"val_loss\": val_loss, \"epoch\": epoch + 1})\n",
    "\n",
    "    print(f\"Epoch {epoch + 1}/{num_epochs}, Train Loss: {epoch_loss:.4f}, Val Loss: {val_loss:.4f}\")\n",
    "    \n",
    "    # 조기 종료 조건 체크\n",
    "    if val_loss < best_val_loss:\n",
    "        best_val_loss = val_loss\n",
    "        patience_counter = 0\n",
    "    else:\n",
    "        patience_counter += 1\n",
    "\n",
    "    if patience_counter >= early_stopping_patience:\n",
    "        print(f\"Early stopping triggered after {epoch + 1} epochs.\")\n",
    "        break\n",
    "\n",
    "wandb.finish()"
   ]
  },
  {
   "cell_type": "code",
   "execution_count": null,
   "metadata": {},
   "outputs": [
    {
     "name": "stdout",
     "output_type": "stream",
     "text": [
      "Model saved to /home/yunkwan/project/radarclip/model_save/encoder_search_resnet1D_768.pth\n"
     ]
    }
   ],
   "source": [
    "# 모델 저장\n",
    "import os\n",
    "model_save_path = \"/home/yunkwan/project/radarclip/model_save\"\n",
    "model_save_path_encoder_search_resnet1D_768 = \"/home/yunkwan/project/radarclip/model_save/encoder_search_resnet1D_768.pth\"\n",
    "if not os.path.exists(os.path.dirname(model_save_path)):\n",
    "    os.makedirs(os.path.dirname(model_save_path))\n",
    "    \n",
    "torch.save(encoder_search_resnet1D_768.state_dict(), model_save_path_encoder_search_resnet1D_768)\n",
    "print(f\"Model saved to {model_save_path_encoder_search_resnet1D_768}\")\n"
   ]
  },
  {
   "cell_type": "code",
   "execution_count": null,
   "metadata": {},
   "outputs": [],
   "source": []
  },
  {
   "cell_type": "code",
   "execution_count": null,
   "metadata": {},
   "outputs": [
    {
     "name": "stdout",
     "output_type": "stream",
     "text": [
      "torch.Size([10, 1024])\n"
     ]
    }
   ],
   "source": [
    "retrieval_model, feature_extractor_retrieval = clip.load(\"RN50x64\", device=device)  #1024 size 448 \n",
    "# model.encoder의 파라미터를 고정\n",
    "# 모델의 모든 파라미터를 고정\n",
    "for param in retrieval_model.parameters():\n",
    "    param.requires_grad = False\n",
    "def prepro_image_features(images, retrieval_model, device, batch_size=2):\n",
    "    \"\"\"\n",
    "    Resize images to (448, 448) and extract features using the retrieval model.\n",
    "    \n",
    "    Parameters:\n",
    "    images (torch.Tensor): A batch of images with shape (batch_size, 3, 224, 224).\n",
    "    retrieval_model: The model used to extract image features.\n",
    "    device (str): The device to perform computations on (\"cpu\" or \"cuda\").\n",
    "    batch_size (int): The number of images to process in each smaller batch.\n",
    "    \n",
    "    Returns:\n",
    "    np.ndarray: The extracted image features.\n",
    "    \"\"\"\n",
    "    # Define the transformation to resize the images\n",
    "    resize_transform = transforms.Resize((448, 448))\n",
    "    \n",
    "    # Apply the transformation to each image in the batch\n",
    "    resized_images = torch.stack([resize_transform(image) for image in images])\n",
    "    \n",
    "    # Move the resized images to the device and use mixed precision\n",
    "    resized_images = resized_images.to(device).float() #.half()\n",
    "    \n",
    "    # Process images in smaller batches to avoid memory overflow\n",
    "    image_features_list = []\n",
    "    \n",
    "    for i in range(0, len(resized_images), batch_size):\n",
    "        batch_images = resized_images[i:i + batch_size]\n",
    "        # Clear cache to optimize memory\n",
    "        torch.cuda.empty_cache()\n",
    "        # 이미지 특징 추출\n",
    "        with torch.no_grad():\n",
    "            image_features_batch = retrieval_model.encode_image(batch_images) #.cpu().detach().numpy()\n",
    "            # print(image_features_batch.shape)\n",
    "        image_features_list.append(image_features_batch)\n",
    "    \n",
    "    # Combine all the batch features\n",
    "    image_features = torch.concat(image_features_list, axis=0)\n",
    "    \n",
    "    return torch.Tensor(image_features).to(device).float()\n",
    "\n",
    "\n",
    "images = torch.randn(10, 3, 64, 64)  # Replace with your actual images\n",
    "# retrieval_model, _ = clip.load(\"RN50x64\", device=device)\n",
    "\n",
    "image_features = prepro_image_features(images, retrieval_model, device, batch_size=2)\n",
    "print(image_features.shape) "
   ]
  },
  {
   "cell_type": "code",
   "execution_count": null,
   "metadata": {},
   "outputs": [
    {
     "data": {
      "text/html": [
       "Finishing last run (ID:a6qdm3lu) before initializing another..."
      ],
      "text/plain": [
       "<IPython.core.display.HTML object>"
      ]
     },
     "metadata": {},
     "output_type": "display_data"
    },
    {
     "data": {
      "application/vnd.jupyter.widget-view+json": {
       "model_id": "13b4b1996155430e8f09d9cc167e14a4",
       "version_major": 2,
       "version_minor": 0
      },
      "text/plain": [
       "VBox(children=(Label(value='0.002 MB of 0.002 MB uploaded\\r'), FloatProgress(value=1.0, max=1.0)))"
      ]
     },
     "metadata": {},
     "output_type": "display_data"
    },
    {
     "data": {
      "text/html": [
       " View run <strong style=\"color:#cdcd00\">swift-totem-54</strong> at: <a href='https://wandb.ai/kycl0131/encoder_search_resnet1D_1024/runs/a6qdm3lu' target=\"_blank\">https://wandb.ai/kycl0131/encoder_search_resnet1D_1024/runs/a6qdm3lu</a><br/> View project at: <a href='https://wandb.ai/kycl0131/encoder_search_resnet1D_1024' target=\"_blank\">https://wandb.ai/kycl0131/encoder_search_resnet1D_1024</a><br/>Synced 6 W&B file(s), 0 media file(s), 0 artifact file(s) and 0 other file(s)"
      ],
      "text/plain": [
       "<IPython.core.display.HTML object>"
      ]
     },
     "metadata": {},
     "output_type": "display_data"
    },
    {
     "data": {
      "text/html": [
       "Find logs at: <code>./wandb/run-20240625_211033-a6qdm3lu/logs</code>"
      ],
      "text/plain": [
       "<IPython.core.display.HTML object>"
      ]
     },
     "metadata": {},
     "output_type": "display_data"
    },
    {
     "data": {
      "text/html": [
       "Successfully finished last run (ID:a6qdm3lu). Initializing new run:<br/>"
      ],
      "text/plain": [
       "<IPython.core.display.HTML object>"
      ]
     },
     "metadata": {},
     "output_type": "display_data"
    },
    {
     "data": {
      "application/vnd.jupyter.widget-view+json": {
       "model_id": "a6a3973fa85e483ab7319e982086a76e",
       "version_major": 2,
       "version_minor": 0
      },
      "text/plain": [
       "VBox(children=(Label(value='Waiting for wandb.init()...\\r'), FloatProgress(value=0.011112373746517632, max=1.0…"
      ]
     },
     "metadata": {},
     "output_type": "display_data"
    },
    {
     "data": {
      "text/html": [
       "wandb version 0.17.3 is available!  To upgrade, please run:\n",
       " $ pip install wandb --upgrade"
      ],
      "text/plain": [
       "<IPython.core.display.HTML object>"
      ]
     },
     "metadata": {},
     "output_type": "display_data"
    },
    {
     "data": {
      "text/html": [
       "Tracking run with wandb version 0.17.0"
      ],
      "text/plain": [
       "<IPython.core.display.HTML object>"
      ]
     },
     "metadata": {},
     "output_type": "display_data"
    },
    {
     "data": {
      "text/html": [
       "Run data is saved locally in <code>/home/yunkwan/project/radarclip/wandb/run-20240625_211059-mimj7tz3</code>"
      ],
      "text/plain": [
       "<IPython.core.display.HTML object>"
      ]
     },
     "metadata": {},
     "output_type": "display_data"
    },
    {
     "data": {
      "text/html": [
       "Syncing run <strong><a href='https://wandb.ai/kycl0131/encoder_search_resnet1D_1024/runs/mimj7tz3' target=\"_blank\">dazzling-jazz-55</a></strong> to <a href='https://wandb.ai/kycl0131/encoder_search_resnet1D_1024' target=\"_blank\">Weights & Biases</a> (<a href='https://wandb.me/run' target=\"_blank\">docs</a>)<br/>"
      ],
      "text/plain": [
       "<IPython.core.display.HTML object>"
      ]
     },
     "metadata": {},
     "output_type": "display_data"
    },
    {
     "data": {
      "text/html": [
       " View project at <a href='https://wandb.ai/kycl0131/encoder_search_resnet1D_1024' target=\"_blank\">https://wandb.ai/kycl0131/encoder_search_resnet1D_1024</a>"
      ],
      "text/plain": [
       "<IPython.core.display.HTML object>"
      ]
     },
     "metadata": {},
     "output_type": "display_data"
    },
    {
     "data": {
      "text/html": [
       " View run at <a href='https://wandb.ai/kycl0131/encoder_search_resnet1D_1024/runs/mimj7tz3' target=\"_blank\">https://wandb.ai/kycl0131/encoder_search_resnet1D_1024/runs/mimj7tz3</a>"
      ],
      "text/plain": [
       "<IPython.core.display.HTML object>"
      ]
     },
     "metadata": {},
     "output_type": "display_data"
    },
    {
     "name": "stderr",
     "output_type": "stream",
     "text": [
      "Epoch 1/30: 100%|██████████| 287/287 [04:23<00:00,  1.09it/s, loss=0.00725]\n"
     ]
    },
    {
     "name": "stdout",
     "output_type": "stream",
     "text": [
      "Epoch 1/30, Train Loss: 0.0073, Val Loss: 0.0053\n"
     ]
    },
    {
     "name": "stderr",
     "output_type": "stream",
     "text": [
      "Epoch 2/30: 100%|██████████| 287/287 [04:24<00:00,  1.09it/s, loss=0.00484]\n"
     ]
    },
    {
     "name": "stdout",
     "output_type": "stream",
     "text": [
      "Epoch 2/30, Train Loss: 0.0048, Val Loss: 0.0047\n"
     ]
    },
    {
     "name": "stderr",
     "output_type": "stream",
     "text": [
      "Epoch 3/30: 100%|██████████| 287/287 [04:25<00:00,  1.08it/s, loss=0.00444]\n"
     ]
    },
    {
     "name": "stdout",
     "output_type": "stream",
     "text": [
      "Epoch 3/30, Train Loss: 0.0044, Val Loss: 0.0044\n"
     ]
    },
    {
     "name": "stderr",
     "output_type": "stream",
     "text": [
      "Epoch 4/30: 100%|██████████| 287/287 [04:23<00:00,  1.09it/s, loss=0.00418]\n"
     ]
    },
    {
     "name": "stdout",
     "output_type": "stream",
     "text": [
      "Epoch 4/30, Train Loss: 0.0042, Val Loss: 0.0048\n"
     ]
    },
    {
     "name": "stderr",
     "output_type": "stream",
     "text": [
      "Epoch 5/30: 100%|██████████| 287/287 [04:24<00:00,  1.08it/s, loss=0.00394]\n"
     ]
    },
    {
     "name": "stdout",
     "output_type": "stream",
     "text": [
      "Epoch 5/30, Train Loss: 0.0039, Val Loss: 0.0038\n"
     ]
    },
    {
     "name": "stderr",
     "output_type": "stream",
     "text": [
      "Epoch 6/30: 100%|██████████| 287/287 [04:22<00:00,  1.09it/s, loss=0.0037] \n"
     ]
    },
    {
     "name": "stdout",
     "output_type": "stream",
     "text": [
      "Epoch 6/30, Train Loss: 0.0037, Val Loss: 0.0038\n"
     ]
    },
    {
     "name": "stderr",
     "output_type": "stream",
     "text": [
      "Epoch 7/30: 100%|██████████| 287/287 [04:24<00:00,  1.09it/s, loss=0.00356]\n"
     ]
    },
    {
     "name": "stdout",
     "output_type": "stream",
     "text": [
      "Epoch 7/30, Train Loss: 0.0036, Val Loss: 0.0037\n"
     ]
    },
    {
     "name": "stderr",
     "output_type": "stream",
     "text": [
      "Epoch 8/30: 100%|██████████| 287/287 [04:25<00:00,  1.08it/s, loss=0.00344]\n"
     ]
    },
    {
     "name": "stdout",
     "output_type": "stream",
     "text": [
      "Epoch 8/30, Train Loss: 0.0034, Val Loss: 0.0034\n"
     ]
    },
    {
     "name": "stderr",
     "output_type": "stream",
     "text": [
      "Epoch 9/30: 100%|██████████| 287/287 [04:24<00:00,  1.09it/s, loss=0.00334]\n"
     ]
    },
    {
     "name": "stdout",
     "output_type": "stream",
     "text": [
      "Epoch 9/30, Train Loss: 0.0033, Val Loss: 0.0034\n"
     ]
    },
    {
     "name": "stderr",
     "output_type": "stream",
     "text": [
      "Epoch 10/30: 100%|██████████| 287/287 [04:24<00:00,  1.08it/s, loss=0.00327]\n"
     ]
    },
    {
     "name": "stdout",
     "output_type": "stream",
     "text": [
      "Epoch 10/30, Train Loss: 0.0033, Val Loss: 0.0035\n"
     ]
    },
    {
     "name": "stderr",
     "output_type": "stream",
     "text": [
      "Epoch 11/30: 100%|██████████| 287/287 [04:24<00:00,  1.08it/s, loss=0.0032] \n"
     ]
    }
   ],
   "source": [
    "# 모델, 손실 함수, 최적화기 정의\n",
    "import torch.optim as optim\n",
    "import wandb\n",
    "from tqdm import tqdm\n",
    "from PIL import Image\n",
    "import torch.nn as nn\n",
    "\n",
    "# WandB 초기화\n",
    "wandb.init(project=\"encoder_search_resnet1D_1024\")\n",
    "\n",
    "criterion = nn.MSELoss()\n",
    "#cos similarity 사용\n",
    "# criterion = nn.CosineSimilarity(dim=1)  # 벡터 간의 코사인 유사도 계산\n",
    "# similarity_to_loss = lambda x: 1 - x  # 코사인 유사도를 손실로 변환\n",
    "\n",
    "\n",
    "optimizer = optim.Adam(encoder_search_resnet1D_1024.parameters(), lr=0.001, weight_decay=1e-5)\n",
    "# paired_dataloader sklearn split train val test\n",
    "\n",
    "\n",
    "# 학습 및 검증 루프\n",
    "num_epochs = 30\n",
    "early_stopping_patience = 5  # 개선되지 않는 에폭 수\n",
    "best_val_loss = float('inf')\n",
    "patience_counter = 0\n",
    "\n",
    "for epoch in range(num_epochs):\n",
    "    encoder_search_resnet1D_1024.train()\n",
    "    running_loss = 0.0\n",
    "    train_loader_tqdm = tqdm(train_loader, desc=f\"Epoch {epoch + 1}/{num_epochs}\")\n",
    "\n",
    "    for images, radars,_,_,_ in train_loader_tqdm:\n",
    "        images = images.to(device)\n",
    "        radars = radars.to(device)\n",
    "        optimizer.zero_grad()\n",
    "        radars_features = encoder_search_resnet1D_1024(radars)\n",
    "        # images_features = CLIP.get_image_features(images)\n",
    "\n",
    "        images_features = prepro_image_features(images, retrieval_model, device, batch_size=32)\n",
    "        # print(radars_features.shape, images_features.shape)\n",
    "        loss = criterion(radars_features, images_features)\n",
    "        # similarity = criterion(radars_features, images_features)\n",
    "        # loss = similarity_to_loss(similarity).mean() \n",
    "\n",
    "        loss.backward()\n",
    "        optimizer.step()\n",
    "\n",
    "        running_loss += loss.item() * images.size(0)\n",
    "        train_loader_tqdm.set_postfix(loss=running_loss / len(train_dataset))\n",
    "\n",
    "    epoch_loss = running_loss / len(train_dataset)\n",
    "    wandb.log({\"train_loss\": epoch_loss, \"epoch\": epoch + 1})\n",
    "\n",
    "    # 검증 단계\n",
    "    encoder_search_resnet1D_1024.eval()\n",
    "    val_loss = 0.0\n",
    "\n",
    "    with torch.no_grad():\n",
    "        for images, radars,_,_,_ in val_loader:\n",
    "            images = images.to(device)\n",
    "            radars = radars.to(device)  \n",
    "            radars_features = encoder_search_resnet1D_1024(radars)\n",
    "            # images_features = CLIP.get_image_features(images)\n",
    "            images_features = prepro_image_features(images, retrieval_model, device, batch_size=32)\n",
    "\n",
    "            loss = criterion(radars_features, images_features)\n",
    "            # similarity = criterion(radars_features, images_features)\n",
    "            # loss = similarity_to_loss(similarity).mean()  # 코사인 유사도를 손실로 변환\n",
    "\n",
    "\n",
    "            val_loss += loss.item() * images.size(0)\n",
    "\n",
    "    val_loss = val_loss / len(val_dataset)\n",
    "    wandb.log({\"val_loss\": val_loss, \"epoch\": epoch + 1})\n",
    "\n",
    "    print(f\"Epoch {epoch + 1}/{num_epochs}, Train Loss: {epoch_loss:.4f}, Val Loss: {val_loss:.4f}\")\n",
    "    \n",
    "    \n",
    "    # 조기 종료 조건 체크\n",
    "    if val_loss < best_val_loss:\n",
    "        best_val_loss = val_loss\n",
    "        patience_counter = 0\n",
    "    else:\n",
    "        patience_counter += 1\n",
    "\n",
    "    if patience_counter >= early_stopping_patience:\n",
    "        print(f\"Early stopping triggered after {epoch + 1} epochs.\")\n",
    "        break\n",
    "\n",
    "wandb.finish()"
   ]
  },
  {
   "cell_type": "code",
   "execution_count": null,
   "metadata": {},
   "outputs": [
    {
     "name": "stdout",
     "output_type": "stream",
     "text": [
      "Model saved to /home/yunkwan/project/radarclip/model_save/encoder_search_resnet1D_1024.pth\n"
     ]
    }
   ],
   "source": [
    "# 모델 저장\n",
    "import os\n",
    "model_save_path = \"/home/yunkwan/project/radarclip/model_save\"\n",
    "model_save_path_encoder_search_resnet1D_1024 = \"/home/yunkwan/project/radarclip/model_save/encoder_search_resnet1D_1024.pth\"\n",
    "if not os.path.exists(os.path.dirname(model_save_path)):\n",
    "    os.makedirs(os.path.dirname(model_save_path))\n",
    "    \n",
    "torch.save(encoder_search_resnet1D_1024.state_dict(), model_save_path_encoder_search_resnet1D_1024)\n",
    "print(f\"Model saved to {model_save_path_encoder_search_resnet1D_1024}\")\n"
   ]
  },
  {
   "cell_type": "code",
   "execution_count": null,
   "metadata": {},
   "outputs": [],
   "source": [
    "\n",
    "\n",
    "\n",
    "\n",
    "\n",
    "\n",
    "# # 테스트 단계\n",
    "# resnet1D = resnet50_1d()  # 모델 클래스의 인스턴스 생성\n",
    "# resnet1D.load_state_dict(torch.load(model_save_path))\n",
    "# resnet1D.eval()  # 모델을 평가 모드로 전환\n",
    "\n",
    "# resnet1D.eval()\n",
    "# test_loss = 0.0\n",
    "\n",
    "# with torch.no_grad():\n",
    "#     for images, radars,_,_ in test_loader:\n",
    "#         radars_feature = resnet1D(radars)\n",
    "#         images_features = prepro_image_features(images, retrieval_model, device, batch_size=2)\n",
    "#         loss = criterion(radars_feature, images_features)\n",
    "#         test_loss += loss.item() * images.size(0)\n",
    "\n",
    "# test_loss = test_loss / len(test_dataset)\n",
    "\n",
    "\n",
    "# print(f\"Test Loss: {test_loss:.4f}\")"
   ]
  },
  {
   "cell_type": "code",
   "execution_count": null,
   "metadata": {},
   "outputs": [],
   "source": [
    "# #모델 세이브\n",
    "# # 모델 저장\n",
    "# import os\n",
    "# import torch\n",
    "# from model import *\n",
    "# path = \"/home/yunkwan/project/radarclip/model_save\"\n",
    "# model_save_encoding_path = \"/home/yunkwan/project/radarclip/model_save/resnet1D_model.pth\"\n",
    "# model_save_decoding_path = \"/home/yunkwan/project/radarclip/model_save/decoding.pth\"\n",
    "# if not os.path.exists(os.path.dirname(path)):\n",
    "#     os.makedirs(os.path.dirname(path))\n",
    "    \n",
    "# torch.save(resnet1D.state_dict(), model_save_encoding_path)\n",
    "# torch.save(decoder.state_dict(), model_save_decoding_path)"
   ]
  },
  {
   "cell_type": "code",
   "execution_count": null,
   "metadata": {},
   "outputs": [],
   "source": [
    "# #모델 세이브\n",
    "# # 모델 저장\n",
    "# import os\n",
    "# import torch\n",
    "# from model import *\n",
    "# path = \"/home/yunkwan/project/radarclip/model_save\"\n",
    "# model_save_encoding_path = \"/home/yunkwan/project/radarclip/model_save/resnet1D_model.pth\"\n",
    "# model_save_decoding_path = \"/home/yunkwan/project/radarclip/model_save/decoding.pth\"\n",
    "# device = \"cuda\" if torch.cuda.is_available() else \"cpu\"\n",
    "\n",
    "# resnet1D = resnet50_1d()  # 모델 클래스의 인스턴스 생성\n",
    "# decoder = ResNet101Decoder( latent_dim=1024, img_channels=3,output_size=(224,224))\n",
    "# resnet1D.load_state_dict(torch.load(model_save_encoding_path))\n",
    "# resnet1D.eval() \n",
    "# decoder.load_state_dict(torch.load(model_save_decoding_path))\n",
    "# decoder.eval()\n",
    "\n",
    "# resnet1D.to(device)\n",
    "# decoder.to(device)\n"
   ]
  },
  {
   "cell_type": "code",
   "execution_count": null,
   "metadata": {},
   "outputs": [],
   "source": [
    "# # 테스트 단계\n",
    "# import numpy as np\n",
    "# import matplotlib.pyplot as plt\n",
    "# from PIL import Image\n",
    "# from dataload import *\n",
    "# from torchvision import datasets, transforms\n",
    "# from torch.utils.data import Dataset, DataLoader\n",
    "# from sklearn.utils import shuffle\n",
    "# test_loss = 0.0\n",
    "\n",
    "# # 이미지 및 레이더 데이터셋 경로 설정\n",
    "# test_image_data_path = '/home/yunkwan/project/radarclip/data_test/image'\n",
    "# test_radar_data_path = '/home/yunkwan/project/radarclip/data_test/radar'\n",
    "\n",
    "# #test_image_data_path = '/home/yunkwan/project/radarclip/data/image'\n",
    "# #test_radar_data_path = '/home/yunkwan/project/radarclip/data/radar'\n",
    "# criterion = nn.MSELoss()\n",
    "# test_paired_dataset = PairedDataset(image_root_dir=test_image_data_path, radar_root_dir=test_radar_data_path,radar_range=radar_range, transform=image_transform)\n",
    "# #shuffle dataset\n",
    "# # test_paired_dataset = shuffle(test_paired_dataset)\n",
    "\n",
    "\n",
    "# test_paired_dataloader = DataLoader(test_paired_dataset, batch_size=1, shuffle=True, num_workers=4)\n",
    "# with torch.no_grad():\n",
    "#     for images, radars,_,_ in test_paired_dataloader:\n",
    "#     # image_path = \"/home/yunkwan/project/radarclip/data_test/image/sit/Image_frame_1717501028552.png\"\n",
    "#     # radar_path = \"/home/yunkwan/project/radarclip/data_test/radar/sit/Radar_frame_1717501028552.npy\"        \n",
    "#     # images = Image.open(image_path).convert('RGB')\n",
    "#     # images = image_transform(images)\n",
    "\n",
    "#     # radars = np.load(radar_path)\n",
    "#     # radars = torch.Tensor(radars).to(device)\n",
    "#     # images = torch.Tensor(images).to(device)\n",
    "#     # radars = radars.reshape(-1,1,1488)\n",
    "#     # images = images.unsqueeze(0)\n",
    "#     # print(radars.shape,images.shape)\n",
    "#         images = images.to(device)\n",
    "#         radars = radars.to(device)\n",
    "#         radars_feature = resnet1D(radars)\n",
    "#         images_features = prepro_image_features(images, retrieval_model, device, batch_size=1).to(device)\n",
    "#         loss = criterion(radars_feature, images_features)\n",
    "#         test_loss += loss.item() * images.size(0)\n",
    "#         break\n",
    "#     test_loss = test_loss / len(test_dataset)\n",
    "#     print(f\"Test Loss: {test_loss:.4f}\")\n",
    "#     radar_img= decoder(radars_feature)\n",
    "#     img_img = decoder(images_features)\n",
    "    \n",
    "\n",
    "\n",
    "# #tensor to image\n",
    "# radar_img = radar_img.cpu()\n",
    "# img_img = img_img.cpu()\n",
    "# images = images.cpu()\n",
    "# radar_img = np.squeeze(radar_img[0])\n",
    "# img_img = np.squeeze(img_img[0])\n",
    "# images = np.squeeze(images[0])\n",
    "\n",
    "# radar_img= imshow_nping(radar_img)\n",
    "# img_img = imshow_nping(img_img)\n",
    "# images = imshow_nping(images)\n",
    "\n",
    "\n",
    "# # radar_img = np.transpose(radar_img, (1, 2, 0))\n",
    "# # img_img = np.transpose(img_img, (1, 2, 0))\n",
    "# # images = np.transpose(images, (1, 2, 0))\n",
    "\n",
    "# # radar_img = np.clip(radar_img, 0, 1)\n",
    "# # img_img = np.clip(img_img, 0, 1)\n",
    "# # images = np.clip(images, 0, 1)\n",
    "\n",
    "\n",
    "# # plot 설정\n",
    "# fig, axes = plt.subplots(1, 3, figsize=(15, 5))\n",
    "\n",
    "# # 각 subplot에 이미지 표시\n",
    "# axes[0].imshow(radar_img)\n",
    "# axes[0].set_title(\"Radar Image\")\n",
    "# axes[0].axis('off')\n",
    "\n",
    "# axes[1].imshow(img_img)\n",
    "# axes[1].set_title(\"Image Image\")\n",
    "# axes[1].axis('off')\n",
    "\n",
    "# axes[2].imshow(images)\n",
    "# axes[2].set_title(\"Original Image\")\n",
    "# axes[2].axis('off')\n",
    "\n",
    "# # 전체 plot 표시\n",
    "# plt.tight_layout()\n",
    "# plt.show()\n",
    "# plt.plot(radars.cpu().numpy()[0].reshape(radar_range[1]-radar_range[0]))\n",
    "\n"
   ]
  },
  {
   "cell_type": "code",
   "execution_count": null,
   "metadata": {},
   "outputs": [],
   "source": []
  },
  {
   "cell_type": "code",
   "execution_count": null,
   "metadata": {},
   "outputs": [],
   "source": []
  },
  {
   "cell_type": "code",
   "execution_count": null,
   "metadata": {},
   "outputs": [],
   "source": []
  },
  {
   "cell_type": "code",
   "execution_count": null,
   "metadata": {},
   "outputs": [],
   "source": []
  },
  {
   "cell_type": "code",
   "execution_count": null,
   "metadata": {},
   "outputs": [],
   "source": [
    "# # 모델, 손실 함수, 최적화기 정의\n",
    "# import torch.optim as optim\n",
    "# import wandb\n",
    "# from tqdm import tqdm\n",
    "# from PIL import Image\n",
    "# import torch.nn as nn\n",
    "# wandb.init(project=\"resnet-1d\")\n",
    "# # 손실 함수 및 최적화기 정의\n",
    "# criterion = nn.MSELoss()\n",
    "# optimizer = optim.Adam(list(resnet1D.parameters()) + list(decoder.parameters()), lr=0.001)\n",
    "\n",
    "\n",
    "# # 학습 및 검증 루프\n",
    "# num_epochs = 3000\n",
    "\n",
    "\n",
    "# for epoch in range(num_epochs):\n",
    "#     resnet1D.train()\n",
    "#     decoder.train()\n",
    "#     running_loss = 0.0\n",
    "#     running_decoder_loss = 0.0\n",
    "#     running_encoder_loss = 0.0\n",
    "#     train_loader_tqdm = tqdm(train_loader, desc=f\"Epoch {epoch + 1}/{num_epochs}\")\n",
    "\n",
    "#     for images, radars, _, _ in train_loader_tqdm:\n",
    "#         images, radars = images.to(device), radars.to(device)\n",
    "#         optimizer.zero_grad()\n",
    "        \n",
    "#         radars_features = resnet1D(radars)\n",
    "#         images_features = prepro_image_features(images, retrieval_model, device, batch_size=2).to(device)\n",
    "        \n",
    "#         # 원본 이미지 복구\n",
    "#         reconstructed_images = decoder(radars_features)\n",
    "#         reconstruction_loss = criterion(reconstructed_images, images)\n",
    "        \n",
    "#         feature_loss = criterion(radars_features, images_features)\n",
    "#         loss = feature_loss + reconstruction_loss\n",
    "\n",
    "#         loss.backward()\n",
    "#         optimizer.step()\n",
    "\n",
    "#         running_loss += loss.item() * images.size(0)\n",
    "#         running_decoder_loss += reconstruction_loss.item() * images.size(0)\n",
    "#         running_encoder_loss += feature_loss.item() * images.size(0)\n",
    "#         train_loader_tqdm.set_postfix(loss=running_loss / len(train_dataset), encoder_loss =running_encoder_loss/ len(train_dataset) ,decoder_loss=running_decoder_loss / len(train_dataset))\n",
    "\n",
    "#     epoch_loss = running_loss / len(train_dataset)\n",
    "#     epoch_decoder_loss = running_decoder_loss / len(train_dataset)\n",
    "#     epoch_encoder_loss = running_encoder_loss / len(train_dataset)\n",
    "#     wandb.log({\"train_loss\": epoch_loss,\"encoder_loss\": epoch_encoder_loss, \"decoder_loss\": epoch_decoder_loss, \"epoch\": epoch + 1})\n",
    "\n",
    "#     # 검증 단계\n",
    "#     resnet1D.eval()\n",
    "#     decoder.eval()\n",
    "#     val_loss = 0.0\n",
    "#     val_decoder_loss = 0.0\n",
    "#     val_encoder_loss = 0.0\n",
    "#     with torch.no_grad():\n",
    "#         for images, radars, _, _ in val_loader:\n",
    "#             images, radars = images.to(device), radars.to(device)\n",
    "#             radars_features = resnet1D(radars)\n",
    "#             images_features = prepro_image_features(images, retrieval_model, device, batch_size=2).to(device)\n",
    "            \n",
    "#             reconstructed_images = decoder(radars_features)\n",
    "#             reconstruction_loss = criterion(reconstructed_images, images)\n",
    "#             feature_loss = criterion(radars_features, images_features)\n",
    "#             loss = feature_loss  + reconstruction_loss\n",
    "\n",
    "#             val_loss += loss.item() * images.size(0)\n",
    "#             val_decoder_loss += reconstruction_loss.item() * images.size(0)\n",
    "#             val_encoder_loss += feature_loss.item() * images.size(0)\n",
    "#     val_loss = val_loss / len(val_dataset)\n",
    "#     val_decoder_loss = val_decoder_loss / len(val_dataset)\n",
    "#     val_encoder_loss = val_encoder_loss / len(val_dataset)\n",
    "#     wandb.log({\"val_loss\": val_loss,\"val_encoder_loss\": val_encoder_loss, \"val_decoder_loss\": val_decoder_loss, \"epoch\": epoch + 1})\n",
    "\n",
    "#     print(f\"Epoch {epoch + 1}/{num_epochs}, Train Loss: {epoch_loss:.4f}, Val Loss: {val_loss:.4f},Encoder Train Loss: {epoch_encoder_loss:.4f}, Encoder Val Loss: {val_encoder_loss:.4f}, Decoder Train Loss: {epoch_decoder_loss:.4f}, Decoder Val Loss: {val_decoder_loss:.4f}\")\n",
    "\n",
    "# wandb.finish()"
   ]
  }
 ],
 "metadata": {
  "kernelspec": {
   "display_name": "smallcap",
   "language": "python",
   "name": "python3"
  },
  "language_info": {
   "codemirror_mode": {
    "name": "ipython",
    "version": 3
   },
   "file_extension": ".py",
   "mimetype": "text/x-python",
   "name": "python",
   "nbconvert_exporter": "python",
   "pygments_lexer": "ipython3",
   "version": "3.9.19"
  }
 },
 "nbformat": 4,
 "nbformat_minor": 2
}
